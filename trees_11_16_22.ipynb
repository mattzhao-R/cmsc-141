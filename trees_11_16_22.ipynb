{
 "cells": [
  {
   "cell_type": "code",
   "execution_count": 1,
   "id": "3cb00053-4927-4581-9338-057bbc36d264",
   "metadata": {},
   "outputs": [],
   "source": [
    "def __contains__(self,key): # dunder method for `in`\n",
    "    if self.is_empty():\n",
    "        return False\n",
    "    else:\n",
    "        if key == self.key:\n",
    "            return True\n",
    "        else:\n",
    "            for st in self.children:\n",
    "                if st.__contains__(key):\n",
    "                    return True\n",
    "            return False"
   ]
  },
  {
   "cell_type": "markdown",
   "id": "63aad327-728d-4065-a11e-663d011d622d",
   "metadata": {},
   "source": [
    "binary search tree - balances cost of lookup and cost of ordering\n",
    "\n",
    "every node has exactly 2 children (child can be empty)\n",
    "\n",
    "data structure invariant \n",
    "\n",
    "every value to the left is smaller than the value in the root\n",
    "\n",
    "every value to the right is larger than the value in the root\n",
    "\n",
    "left subtree is a bst,right substree is a bst\n",
    "\n",
    "#### search for value\n",
    "two base cases: tree empty -> False, value in root -> True\n",
    "\n"
   ]
  },
  {
   "cell_type": "code",
   "execution_count": null,
   "id": "6fab091e-989a-4e66-9e76-8073be1089ef",
   "metadata": {},
   "outputs": [],
   "source": []
  }
 ],
 "metadata": {
  "kernelspec": {
   "display_name": "Python 3 (ipykernel)",
   "language": "python",
   "name": "python3"
  },
  "language_info": {
   "codemirror_mode": {
    "name": "ipython",
    "version": 3
   },
   "file_extension": ".py",
   "mimetype": "text/x-python",
   "name": "python",
   "nbconvert_exporter": "python",
   "pygments_lexer": "ipython3",
   "version": "3.9.13"
  }
 },
 "nbformat": 4,
 "nbformat_minor": 5
}
