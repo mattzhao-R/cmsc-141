{
 "cells": [
  {
   "cell_type": "markdown",
   "id": "5f5b9e12-e335-4d72-9de9-787f3052f015",
   "metadata": {},
   "source": [
    "# Lists\n",
    "\n",
    "Python lists can contain more than one type e.g."
   ]
  },
  {
   "cell_type": "code",
   "execution_count": 1,
   "id": "a9d38399-27b6-49a0-bf85-71dae9e3f59e",
   "metadata": {},
   "outputs": [],
   "source": [
    "lang = ['C','C++','Python','Java']\n",
    "off = [5,'some string',6.0,True]"
   ]
  },
  {
   "cell_type": "markdown",
   "id": "3dee9371-3f53-4d92-8dba-038e49cd3e62",
   "metadata": {},
   "source": [
    "We select elements of a list via integer indices starting with 0."
   ]
  },
  {
   "cell_type": "code",
   "execution_count": 2,
   "id": "e2baa565-742a-48cb-b1d7-f759cc3a487f",
   "metadata": {},
   "outputs": [
    {
     "data": {
      "text/plain": [
       "'C++'"
      ]
     },
     "execution_count": 2,
     "metadata": {},
     "output_type": "execute_result"
    }
   ],
   "source": [
    "lang[1]"
   ]
  },
  {
   "cell_type": "markdown",
   "id": "42fe5e56-ab30-40a6-8a62-eb8f01156b38",
   "metadata": {},
   "source": [
    "`lang[4]` returns an error since the max index for lang is 3 (0 indexing)."
   ]
  },
  {
   "cell_type": "markdown",
   "id": "ccd18d0b-5b6b-455a-be6f-1fe86b4d5d76",
   "metadata": {},
   "source": [
    "We can also use negative indexing"
   ]
  },
  {
   "cell_type": "code",
   "execution_count": 3,
   "id": "3df499d4-742e-4c49-908e-8ffa34ddd5e9",
   "metadata": {},
   "outputs": [
    {
     "data": {
      "text/plain": [
       "'C'"
      ]
     },
     "execution_count": 3,
     "metadata": {},
     "output_type": "execute_result"
    }
   ],
   "source": [
    "lang[-4]"
   ]
  },
  {
   "cell_type": "markdown",
   "id": "f157e35f-c951-4d58-8bcf-d7a8c55143c1",
   "metadata": {},
   "source": [
    "-4 works here since negative indexing starts from -1 (the last element of the list)."
   ]
  },
  {
   "cell_type": "markdown",
   "id": "a2264d71-bcad-4603-85b8-56d3bc497dd4",
   "metadata": {},
   "source": [
    "### Slicing"
   ]
  },
  {
   "cell_type": "code",
   "execution_count": 11,
   "id": "47faff56-bd4c-4f96-a4c3-d3a8c512ef32",
   "metadata": {},
   "outputs": [
    {
     "data": {
      "text/plain": [
       "['C', 'C++', 'Python', 'Java']"
      ]
     },
     "execution_count": 11,
     "metadata": {},
     "output_type": "execute_result"
    }
   ],
   "source": [
    "lang"
   ]
  },
  {
   "cell_type": "code",
   "execution_count": 4,
   "id": "429608c1-de56-443c-b663-2e16e9e41c2a",
   "metadata": {},
   "outputs": [
    {
     "data": {
      "text/plain": [
       "['C++', 'Python']"
      ]
     },
     "execution_count": 4,
     "metadata": {},
     "output_type": "execute_result"
    }
   ],
   "source": [
    "lang[1:3]"
   ]
  },
  {
   "cell_type": "code",
   "execution_count": 5,
   "id": "3c15bc31-1448-45eb-9491-c33ee4ee8a03",
   "metadata": {},
   "outputs": [
    {
     "data": {
      "text/plain": [
       "['C', 'Python']"
      ]
     },
     "execution_count": 5,
     "metadata": {},
     "output_type": "execute_result"
    }
   ],
   "source": [
    "lang[0:4:2]"
   ]
  },
  {
   "cell_type": "code",
   "execution_count": 6,
   "id": "61b8c387-d487-4ae6-8f9e-7c47517c3eea",
   "metadata": {},
   "outputs": [
    {
     "data": {
      "text/plain": [
       "['C', 'Python']"
      ]
     },
     "execution_count": 6,
     "metadata": {},
     "output_type": "execute_result"
    }
   ],
   "source": [
    "lang[:4:2]"
   ]
  },
  {
   "cell_type": "code",
   "execution_count": 7,
   "id": "bed38287-ddb1-4f1d-b74c-434cfc3e89d6",
   "metadata": {},
   "outputs": [
    {
     "data": {
      "text/plain": [
       "['C', 'Python']"
      ]
     },
     "execution_count": 7,
     "metadata": {},
     "output_type": "execute_result"
    }
   ],
   "source": [
    "lang[::2]"
   ]
  },
  {
   "cell_type": "code",
   "execution_count": 8,
   "id": "5fe2a31b-21dc-4caf-bfec-281996ccf3b3",
   "metadata": {},
   "outputs": [
    {
     "data": {
      "text/plain": [
       "['C', 'C++', 'Python', 'Java']"
      ]
     },
     "execution_count": 8,
     "metadata": {},
     "output_type": "execute_result"
    }
   ],
   "source": [
    "lang[:]"
   ]
  },
  {
   "cell_type": "code",
   "execution_count": 9,
   "id": "bcb4d2c2-e5fc-4589-9337-55b9a37afff2",
   "metadata": {},
   "outputs": [
    {
     "data": {
      "text/plain": [
       "['Java', 'Python', 'C++', 'C']"
      ]
     },
     "execution_count": 9,
     "metadata": {},
     "output_type": "execute_result"
    }
   ],
   "source": [
    "lang[::-1]"
   ]
  },
  {
   "cell_type": "code",
   "execution_count": 13,
   "id": "2ff6d88c-d63c-471a-b1a0-798a1e58b7e3",
   "metadata": {},
   "outputs": [
    {
     "data": {
      "text/plain": [
       "['C++', 'Python']"
      ]
     },
     "execution_count": 13,
     "metadata": {},
     "output_type": "execute_result"
    }
   ],
   "source": [
    "lang[1:-1]"
   ]
  },
  {
   "cell_type": "markdown",
   "id": "46f45e85-479a-46b4-9a8c-b05e3c9b9de5",
   "metadata": {},
   "source": [
    "## loops"
   ]
  },
  {
   "cell_type": "code",
   "execution_count": 14,
   "id": "0f644c95-cb27-48fd-b23e-5b9972a8825b",
   "metadata": {},
   "outputs": [
    {
     "name": "stdout",
     "output_type": "stream",
     "text": [
      "C\n",
      "C++\n",
      "Python\n",
      "Java\n"
     ]
    }
   ],
   "source": [
    "for l in lang:\n",
    "    print(l)"
   ]
  },
  {
   "cell_type": "code",
   "execution_count": 15,
   "id": "5e07c871-4130-4dd2-91f4-188c4210fe46",
   "metadata": {},
   "outputs": [
    {
     "name": "stdout",
     "output_type": "stream",
     "text": [
      "C\n",
      "C++\n",
      "Python\n",
      "Java\n"
     ]
    }
   ],
   "source": [
    "for i in range(len(lang)):\n",
    "    print(lang[i])"
   ]
  },
  {
   "cell_type": "code",
   "execution_count": 16,
   "id": "2c492694-8dc0-4078-ad0b-140eda5c4ea3",
   "metadata": {},
   "outputs": [
    {
     "name": "stdout",
     "output_type": "stream",
     "text": [
      "0 C\n",
      "1 C++\n",
      "2 Python\n",
      "3 Java\n"
     ]
    }
   ],
   "source": [
    "for i, val in enumerate(lang):\n",
    "    print(i, val)"
   ]
  },
  {
   "cell_type": "code",
   "execution_count": 17,
   "id": "515831d5-fac5-4466-9e4c-10eed3a71432",
   "metadata": {},
   "outputs": [
    {
     "name": "stdout",
     "output_type": "stream",
     "text": [
      "(0, 'H')\n",
      "(1, 'e')\n",
      "(2, 'l')\n",
      "(3, 'l')\n",
      "(4, 'o')\n",
      "(5, ' ')\n",
      "(6, 'w')\n",
      "(7, 'o')\n",
      "(8, 'r')\n",
      "(9, 'l')\n",
      "(10, 'd')\n"
     ]
    }
   ],
   "source": [
    "for t in enumerate(\"Hello world\"):\n",
    "    print(t)"
   ]
  },
  {
   "cell_type": "markdown",
   "id": "fab2f13b-a320-49bf-ad7a-b42df3e186fb",
   "metadata": {},
   "source": [
    "if you do not want to use a variable in your loop, use `_`"
   ]
  },
  {
   "cell_type": "code",
   "execution_count": 18,
   "id": "04fbeb5b-335a-4cd0-82d9-4f1a4e05f587",
   "metadata": {},
   "outputs": [
    {
     "name": "stdout",
     "output_type": "stream",
     "text": [
      "0\n",
      "1\n",
      "2\n",
      "3\n",
      "4\n",
      "5\n",
      "6\n",
      "7\n",
      "8\n",
      "9\n",
      "10\n"
     ]
    }
   ],
   "source": [
    "for t,_ in enumerate(\"Hello world\"):\n",
    "    print(t)"
   ]
  },
  {
   "cell_type": "markdown",
   "id": "6ca111e6-1992-4483-8ab1-d96da2677981",
   "metadata": {},
   "source": [
    "Lists are mutable, meaning we can change the elements, size of a list"
   ]
  },
  {
   "cell_type": "code",
   "execution_count": 19,
   "id": "2ee50fa6-b316-44f2-85f5-a91949690623",
   "metadata": {},
   "outputs": [],
   "source": [
    "lang[2] = 'Python 3'"
   ]
  },
  {
   "cell_type": "code",
   "execution_count": 20,
   "id": "0e647926-344e-4a8d-955c-da412375c8af",
   "metadata": {},
   "outputs": [
    {
     "data": {
      "text/plain": [
       "['C', 'C++', 'Python 3', 'Java']"
      ]
     },
     "execution_count": 20,
     "metadata": {},
     "output_type": "execute_result"
    }
   ],
   "source": [
    "lang"
   ]
  },
  {
   "cell_type": "code",
   "execution_count": 21,
   "id": "3b5ea180-5d20-4ab4-bfc8-db2b211a7351",
   "metadata": {},
   "outputs": [],
   "source": [
    "lang.append(\"scheme\")"
   ]
  },
  {
   "cell_type": "code",
   "execution_count": 22,
   "id": "2e38a14a-a08d-421a-98d3-5cd83f0d5dea",
   "metadata": {},
   "outputs": [
    {
     "data": {
      "text/plain": [
       "['C', 'C++', 'Python 3', 'Java', 'scheme']"
      ]
     },
     "execution_count": 22,
     "metadata": {},
     "output_type": "execute_result"
    }
   ],
   "source": [
    "lang"
   ]
  },
  {
   "cell_type": "code",
   "execution_count": 23,
   "id": "125a187b-0f48-40c8-8661-cf19fc51a6c9",
   "metadata": {},
   "outputs": [],
   "source": [
    "prices = [100.0,5.99,7.00,15.00]\n",
    "discount_prices = []"
   ]
  },
  {
   "cell_type": "code",
   "execution_count": 24,
   "id": "95475a47-570c-47a0-a687-9f1dd049c0f7",
   "metadata": {},
   "outputs": [],
   "source": [
    "for price in prices:\n",
    "    discount_prices.append(price * 0.9)"
   ]
  },
  {
   "cell_type": "code",
   "execution_count": 25,
   "id": "d002a716-c959-4e1d-a6ea-4333613c2a2f",
   "metadata": {},
   "outputs": [
    {
     "data": {
      "text/plain": [
       "[90.0, 5.391, 6.3, 13.5]"
      ]
     },
     "execution_count": 25,
     "metadata": {},
     "output_type": "execute_result"
    }
   ],
   "source": [
    "discount_prices"
   ]
  },
  {
   "cell_type": "code",
   "execution_count": 26,
   "id": "c4914eee-2c1c-454f-9e95-46057bcf919b",
   "metadata": {},
   "outputs": [],
   "source": [
    "lang2 = ['pascal','fortran']"
   ]
  },
  {
   "cell_type": "code",
   "execution_count": 27,
   "id": "7b993d93-389a-4c33-be2b-2b61963b1b43",
   "metadata": {},
   "outputs": [],
   "source": [
    "lang3 = lang + lang2"
   ]
  },
  {
   "cell_type": "code",
   "execution_count": 28,
   "id": "80e49eb5-0964-4bc1-8229-5e0abefda576",
   "metadata": {},
   "outputs": [
    {
     "data": {
      "text/plain": [
       "['C', 'C++', 'Python 3', 'Java', 'scheme', 'pascal', 'fortran']"
      ]
     },
     "execution_count": 28,
     "metadata": {},
     "output_type": "execute_result"
    }
   ],
   "source": [
    "lang3"
   ]
  },
  {
   "cell_type": "code",
   "execution_count": null,
   "id": "ea6150e2-042d-40a6-8099-5bc506849cad",
   "metadata": {},
   "outputs": [],
   "source": []
  }
 ],
 "metadata": {
  "kernelspec": {
   "display_name": "Python 3 (ipykernel)",
   "language": "python",
   "name": "python3"
  },
  "language_info": {
   "codemirror_mode": {
    "name": "ipython",
    "version": 3
   },
   "file_extension": ".py",
   "mimetype": "text/x-python",
   "name": "python",
   "nbconvert_exporter": "python",
   "pygments_lexer": "ipython3",
   "version": "3.9.7"
  }
 },
 "nbformat": 4,
 "nbformat_minor": 5
}
