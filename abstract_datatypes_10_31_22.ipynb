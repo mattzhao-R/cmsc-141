{
 "cells": [
  {
   "cell_type": "markdown",
   "id": "eeded06a-0e46-4649-b0c1-91e1a227038b",
   "metadata": {},
   "source": [
    "**STACK**\n",
    "\n",
    "stack is a LIFO data structure, must take from top (cannot reach into middle)\n",
    "\n",
    "stack_create\n",
    "\n",
    "stack_is_empty\n",
    "\n",
    "stack_push adds a value to the stack\n",
    "\n",
    "stack_pop removes a value from the top of the stack and returns it\n",
    "\n",
    "stack_top what is at the top of the stack\n",
    "\n",
    "use list to implement stack good idea because\n",
    "\n",
    "(1) it is ordered and can be modified\n",
    "\n",
    "(2) can use back/end of list instead of front since adding to end of list takes O(1) time while adding to the front takes O(n) time since you would need to reindex every element "
   ]
  },
  {
   "cell_type": "code",
   "execution_count": 1,
   "id": "b1d20d0b-29c6-43c1-8432-94cf7aca5ab2",
   "metadata": {},
   "outputs": [],
   "source": [
    "s = [5,42,105,56,10,56]"
   ]
  },
  {
   "cell_type": "code",
   "execution_count": 2,
   "id": "2d3a8fb7-7242-4210-a32b-51e51c03695a",
   "metadata": {},
   "outputs": [
    {
     "data": {
      "text/plain": [
       "56"
      ]
     },
     "execution_count": 2,
     "metadata": {},
     "output_type": "execute_result"
    }
   ],
   "source": [
    "s.pop()"
   ]
  },
  {
   "cell_type": "code",
   "execution_count": 3,
   "id": "05569b30-d50a-4794-9683-0d95cd4e7323",
   "metadata": {},
   "outputs": [
    {
     "data": {
      "text/plain": [
       "[5, 42, 105, 56, 10]"
      ]
     },
     "execution_count": 3,
     "metadata": {},
     "output_type": "execute_result"
    }
   ],
   "source": [
    "s"
   ]
  },
  {
   "cell_type": "code",
   "execution_count": 4,
   "id": "e6e528e9-31e5-418f-88bb-184ef1d35459",
   "metadata": {},
   "outputs": [
    {
     "data": {
      "text/plain": [
       "10"
      ]
     },
     "execution_count": 4,
     "metadata": {},
     "output_type": "execute_result"
    }
   ],
   "source": [
    "s[-1]"
   ]
  },
  {
   "cell_type": "code",
   "execution_count": 5,
   "id": "0b383fd1-5f5b-40e6-878d-d4f2e488eb58",
   "metadata": {},
   "outputs": [],
   "source": [
    "s[2] = 27"
   ]
  },
  {
   "cell_type": "code",
   "execution_count": 6,
   "id": "43ffb9a5-6cee-4140-81d7-1b91169092f2",
   "metadata": {},
   "outputs": [
    {
     "data": {
      "text/plain": [
       "[5, 42, 27, 56, 10]"
      ]
     },
     "execution_count": 6,
     "metadata": {},
     "output_type": "execute_result"
    }
   ],
   "source": [
    "s"
   ]
  },
  {
   "cell_type": "markdown",
   "id": "568e8cca-1172-42d7-b7fb-272b327f6920",
   "metadata": {},
   "source": [
    "Queues - FIFO"
   ]
  },
  {
   "cell_type": "code",
   "execution_count": null,
   "id": "3dd23b1d-ef32-4225-aac6-2b166a618552",
   "metadata": {},
   "outputs": [],
   "source": []
  }
 ],
 "metadata": {
  "kernelspec": {
   "display_name": "Python 3 (ipykernel)",
   "language": "python",
   "name": "python3"
  },
  "language_info": {
   "codemirror_mode": {
    "name": "ipython",
    "version": 3
   },
   "file_extension": ".py",
   "mimetype": "text/x-python",
   "name": "python",
   "nbconvert_exporter": "python",
   "pygments_lexer": "ipython3",
   "version": "3.9.7"
  }
 },
 "nbformat": 4,
 "nbformat_minor": 5
}
