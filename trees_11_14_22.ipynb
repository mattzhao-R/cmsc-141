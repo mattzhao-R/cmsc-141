{
 "cells": [
  {
   "cell_type": "markdown",
   "id": "5f80db68-fb0f-4ea2-8f6c-4516744b5825",
   "metadata": {},
   "source": [
    "node with nothing above it is root of tree\n",
    "\n",
    "nodes after another node vertically are its children\n",
    "\n",
    "nodes with no children are leaves\n",
    "\n",
    "node with no children is still a tree"
   ]
  },
  {
   "cell_type": "markdown",
   "id": "230cf06e-9e3a-4930-9f67-de1055585689",
   "metadata": {},
   "source": [
    "empty tree - key=none, value=none,child=none\n",
    "\n",
    "tree - key, value, list of children of type tree\n",
    "\n"
   ]
  },
  {
   "cell_type": "code",
   "execution_count": 2,
   "id": "c5d88857-d801-42fe-bf58-30ae0322c2b5",
   "metadata": {},
   "outputs": [],
   "source": [
    "class Tree(object):\n",
    "    def __init__(self, key=None, value=None):\n",
    "        assert key is not None or value is None\n",
    "        \n",
    "        self.key = key\n",
    "        self.value = value\n",
    "        \n",
    "        if key is None and value is None:\n",
    "            self.children = None\n",
    "        else:\n",
    "            self.children = []\n",
    "            \n",
    "            \n",
    "    def is_empty(self):\n",
    "        return (self.key is None and self.value is None and self.children is None)\n",
    "    \n",
    "    \n",
    "    def add_child(self, other_tree):\n",
    "        if not isinstance(other_tree, Tree):\n",
    "            raise ValueError('Not tree')\n",
    "        else:\n",
    "            self.children.append(other_tree)\n",
    "            \n",
    "        \n",
    "    def __len__(self):\n",
    "        if self.is_empty():\n",
    "            return 0\n",
    "        else:\n",
    "            tot = 1\n",
    "            for t in self.children:\n",
    "                tot = tot + t.__len__()\n",
    "            return tot"
   ]
  },
  {
   "cell_type": "markdown",
   "id": "f042c6e9-6ec7-4f4c-8e58-3e7bf758f2ee",
   "metadata": {},
   "source": [
    "Number of nodes in empty tree is 0\n",
    "\n",
    "Nonempty tree: 1+ number of children and number of nodes per child"
   ]
  },
  {
   "cell_type": "code",
   "execution_count": null,
   "id": "6d0c5516-d932-4fc9-b829-5e35834b9d6a",
   "metadata": {},
   "outputs": [],
   "source": []
  }
 ],
 "metadata": {
  "kernelspec": {
   "display_name": "Python 3 (ipykernel)",
   "language": "python",
   "name": "python3"
  },
  "language_info": {
   "codemirror_mode": {
    "name": "ipython",
    "version": 3
   },
   "file_extension": ".py",
   "mimetype": "text/x-python",
   "name": "python",
   "nbconvert_exporter": "python",
   "pygments_lexer": "ipython3",
   "version": "3.9.13"
  }
 },
 "nbformat": 4,
 "nbformat_minor": 5
}
