{
 "cells": [
  {
   "cell_type": "code",
   "execution_count": 1,
   "id": "e548e3bc-81f5-4258-b225-d00c8d66e111",
   "metadata": {},
   "outputs": [],
   "source": [
    "lst1 = [1,2,3,4]"
   ]
  },
  {
   "cell_type": "markdown",
   "id": "4638d31c-3c03-42c1-b907-a225a27198dc",
   "metadata": {},
   "source": [
    "In memory, some space is allocated for the list and the variable `lst1` points to this list."
   ]
  },
  {
   "cell_type": "code",
   "execution_count": 2,
   "id": "4b0105a0-3224-4323-bd42-26dc53a2b13b",
   "metadata": {},
   "outputs": [],
   "source": [
    "x=5\n",
    "y=x\n",
    "x=7 # what is y now?"
   ]
  },
  {
   "cell_type": "code",
   "execution_count": 3,
   "id": "e199aca0-2e5d-4936-b8b5-8e96bf64722b",
   "metadata": {},
   "outputs": [
    {
     "data": {
      "text/plain": [
       "5"
      ]
     },
     "execution_count": 3,
     "metadata": {},
     "output_type": "execute_result"
    }
   ],
   "source": [
    "y # y is still 5 because y was created as another reference to what x was pointing to, which was 5"
   ]
  },
  {
   "cell_type": "code",
   "execution_count": 4,
   "id": "91600920-d6ab-4e0a-93fa-2782c1084625",
   "metadata": {},
   "outputs": [],
   "source": [
    "lst2=lst1"
   ]
  },
  {
   "cell_type": "code",
   "execution_count": 5,
   "id": "938737b4-616e-466b-b577-8acc95d9ad8d",
   "metadata": {},
   "outputs": [
    {
     "data": {
      "text/plain": [
       "[1, 4, 3, 4]"
      ]
     },
     "execution_count": 5,
     "metadata": {},
     "output_type": "execute_result"
    }
   ],
   "source": [
    "lst1[1]=4 \n",
    "lst1 # what is lst2?"
   ]
  },
  {
   "cell_type": "code",
   "execution_count": 6,
   "id": "fea6b5d6-d9a7-4569-8dfe-4c40fdee9c12",
   "metadata": {},
   "outputs": [
    {
     "data": {
      "text/plain": [
       "[1, 4, 3, 4]"
      ]
     },
     "execution_count": 6,
     "metadata": {},
     "output_type": "execute_result"
    }
   ],
   "source": [
    "lst2 # since the actual list in memory was changed, lst2 also is changed"
   ]
  },
  {
   "cell_type": "code",
   "execution_count": 7,
   "id": "18d8dca4-3d64-4665-ba7e-5099fdd1b3b6",
   "metadata": {},
   "outputs": [],
   "source": [
    "lst3 = [1,4,3,4]"
   ]
  },
  {
   "cell_type": "code",
   "execution_count": 8,
   "id": "76c4b07b-7bc0-4f69-8cf7-d76e8cbb6a5d",
   "metadata": {},
   "outputs": [
    {
     "data": {
      "text/plain": [
       "True"
      ]
     },
     "execution_count": 8,
     "metadata": {},
     "output_type": "execute_result"
    }
   ],
   "source": [
    "lst1==lst3"
   ]
  },
  {
   "cell_type": "code",
   "execution_count": 9,
   "id": "fbd9a153-d8be-48df-b469-427ea7a08544",
   "metadata": {},
   "outputs": [
    {
     "data": {
      "text/plain": [
       "True"
      ]
     },
     "execution_count": 9,
     "metadata": {},
     "output_type": "execute_result"
    }
   ],
   "source": [
    "lst1==lst2"
   ]
  },
  {
   "cell_type": "code",
   "execution_count": 10,
   "id": "0bb857ca-e56d-48d1-9753-af3e0c10bda6",
   "metadata": {},
   "outputs": [],
   "source": [
    "lst2[1]=2"
   ]
  },
  {
   "cell_type": "code",
   "execution_count": 11,
   "id": "c5f242e5-a9d1-4e4f-9ab3-67cf4c2f62be",
   "metadata": {},
   "outputs": [
    {
     "data": {
      "text/plain": [
       "[1, 2, 3, 4]"
      ]
     },
     "execution_count": 11,
     "metadata": {},
     "output_type": "execute_result"
    }
   ],
   "source": [
    "lst2"
   ]
  },
  {
   "cell_type": "code",
   "execution_count": 12,
   "id": "2b6f2452-bbed-426a-8d65-beec2662cb03",
   "metadata": {},
   "outputs": [],
   "source": [
    "lst3[1]=2"
   ]
  },
  {
   "cell_type": "code",
   "execution_count": 13,
   "id": "c04379e3-ad06-4aca-82e6-6bf7e787f23f",
   "metadata": {},
   "outputs": [
    {
     "data": {
      "text/plain": [
       "[1, 2, 3, 4]"
      ]
     },
     "execution_count": 13,
     "metadata": {},
     "output_type": "execute_result"
    }
   ],
   "source": [
    "lst3"
   ]
  },
  {
   "cell_type": "code",
   "execution_count": 14,
   "id": "8077088e-3881-4181-b741-0aa58367a1b0",
   "metadata": {},
   "outputs": [
    {
     "data": {
      "text/plain": [
       "140583212564736"
      ]
     },
     "execution_count": 14,
     "metadata": {},
     "output_type": "execute_result"
    }
   ],
   "source": [
    "id(lst1)"
   ]
  },
  {
   "cell_type": "code",
   "execution_count": 15,
   "id": "8c551c71-d74a-4dcb-999e-b617d36abce7",
   "metadata": {},
   "outputs": [
    {
     "data": {
      "text/plain": [
       "140583212564736"
      ]
     },
     "execution_count": 15,
     "metadata": {},
     "output_type": "execute_result"
    }
   ],
   "source": [
    "id(lst2) # lst1 and lst2 are pointing to the same thing in memory"
   ]
  },
  {
   "cell_type": "code",
   "execution_count": 16,
   "id": "742dfa48-d745-4af8-9675-9170ed95815b",
   "metadata": {},
   "outputs": [
    {
     "data": {
      "text/plain": [
       "True"
      ]
     },
     "execution_count": 16,
     "metadata": {},
     "output_type": "execute_result"
    }
   ],
   "source": [
    "id(lst1)==id(lst2) # change to one will be reflected as change in the other"
   ]
  },
  {
   "cell_type": "code",
   "execution_count": 17,
   "id": "5e0f678a-ab4e-4c33-8c0d-4d57f0bde89a",
   "metadata": {},
   "outputs": [
    {
     "data": {
      "text/plain": [
       "140583212574528"
      ]
     },
     "execution_count": 17,
     "metadata": {},
     "output_type": "execute_result"
    }
   ],
   "source": [
    "id(lst3)"
   ]
  },
  {
   "cell_type": "code",
   "execution_count": 18,
   "id": "e3b44078-8e9e-4a8c-90e7-9e847fa27673",
   "metadata": {},
   "outputs": [],
   "source": [
    "lang1=['C','C++','Rust','Java']\n",
    "lang2 = ['Javascript','Pascal']"
   ]
  },
  {
   "cell_type": "code",
   "execution_count": 19,
   "id": "113d4b07-5d9b-40a4-abc1-1695265df2e5",
   "metadata": {},
   "outputs": [],
   "source": [
    "lang3 = lang1 + lang2"
   ]
  },
  {
   "cell_type": "code",
   "execution_count": 20,
   "id": "fa313de3-038d-4b41-970b-09eebad4337d",
   "metadata": {},
   "outputs": [
    {
     "data": {
      "text/plain": [
       "['C', 'C++', 'Rust', 'Java', 'Javascript', 'Pascal']"
      ]
     },
     "execution_count": 20,
     "metadata": {},
     "output_type": "execute_result"
    }
   ],
   "source": [
    "lang3"
   ]
  },
  {
   "cell_type": "code",
   "execution_count": 21,
   "id": "9f2c2e58-b4b1-4653-8906-e2112322ca3e",
   "metadata": {},
   "outputs": [],
   "source": [
    "lang1.append(lang2)"
   ]
  },
  {
   "cell_type": "code",
   "execution_count": 22,
   "id": "4f3a3ba2-ae01-46dd-8ea6-a05e54e1bbbb",
   "metadata": {},
   "outputs": [
    {
     "data": {
      "text/plain": [
       "['C', 'C++', 'Rust', 'Java', ['Javascript', 'Pascal']]"
      ]
     },
     "execution_count": 22,
     "metadata": {},
     "output_type": "execute_result"
    }
   ],
   "source": [
    "lang1"
   ]
  },
  {
   "cell_type": "code",
   "execution_count": 23,
   "id": "4488b10d-604c-4eb2-b2bf-1981f5a2ffc2",
   "metadata": {},
   "outputs": [],
   "source": [
    "lang1=['C','C++','Rust','Java']"
   ]
  },
  {
   "cell_type": "code",
   "execution_count": 24,
   "id": "d5da15fa-8a50-4511-b6cf-0e8607af3996",
   "metadata": {},
   "outputs": [],
   "source": [
    "lang1.extend(lang2)"
   ]
  },
  {
   "cell_type": "code",
   "execution_count": 25,
   "id": "74d5186e-f5ec-44bc-a1db-684a0b0be0b9",
   "metadata": {},
   "outputs": [
    {
     "data": {
      "text/plain": [
       "['C', 'C++', 'Rust', 'Java', 'Javascript', 'Pascal']"
      ]
     },
     "execution_count": 25,
     "metadata": {},
     "output_type": "execute_result"
    }
   ],
   "source": [
    "lang1"
   ]
  },
  {
   "cell_type": "code",
   "execution_count": 26,
   "id": "03fbd682-bc7e-4dcf-bce3-d3331fd1e4f5",
   "metadata": {},
   "outputs": [],
   "source": [
    "del lang1[-1]"
   ]
  },
  {
   "cell_type": "code",
   "execution_count": 27,
   "id": "003a3222-6f42-4ddd-9937-23170069ee44",
   "metadata": {},
   "outputs": [
    {
     "data": {
      "text/plain": [
       "['C', 'C++', 'Rust', 'Java', 'Javascript']"
      ]
     },
     "execution_count": 27,
     "metadata": {},
     "output_type": "execute_result"
    }
   ],
   "source": [
    "lang1"
   ]
  },
  {
   "cell_type": "code",
   "execution_count": 28,
   "id": "8ac781d3-433b-4a1b-b7ba-386ecae055a3",
   "metadata": {},
   "outputs": [],
   "source": [
    "del lang1"
   ]
  },
  {
   "cell_type": "code",
   "execution_count": 29,
   "id": "4454457e-3ec7-4d6b-978c-7dd5f867769c",
   "metadata": {},
   "outputs": [
    {
     "ename": "NameError",
     "evalue": "name 'lang1' is not defined",
     "output_type": "error",
     "traceback": [
      "\u001b[0;31m---------------------------------------------------------------------------\u001b[0m",
      "\u001b[0;31mNameError\u001b[0m                                 Traceback (most recent call last)",
      "\u001b[0;32m/var/folders/fp/_7x5x4s175369fk6b5b5xhy40000gn/T/ipykernel_99319/3221235968.py\u001b[0m in \u001b[0;36m<module>\u001b[0;34m\u001b[0m\n\u001b[0;32m----> 1\u001b[0;31m \u001b[0mlang1\u001b[0m\u001b[0;34m\u001b[0m\u001b[0;34m\u001b[0m\u001b[0m\n\u001b[0m",
      "\u001b[0;31mNameError\u001b[0m: name 'lang1' is not defined"
     ]
    }
   ],
   "source": [
    "lang1"
   ]
  },
  {
   "cell_type": "code",
   "execution_count": 30,
   "id": "86df5d13-0aed-40f1-9808-4b496dedb362",
   "metadata": {},
   "outputs": [],
   "source": [
    "lang1=['C','C++','Rust','Java']"
   ]
  },
  {
   "cell_type": "code",
   "execution_count": 31,
   "id": "78c230bd-3729-476a-b276-d33a2e2a4d7e",
   "metadata": {},
   "outputs": [
    {
     "data": {
      "text/plain": [
       "[1, 2, 3, 4]"
      ]
     },
     "execution_count": 31,
     "metadata": {},
     "output_type": "execute_result"
    }
   ],
   "source": [
    "lst3"
   ]
  },
  {
   "cell_type": "code",
   "execution_count": 32,
   "id": "b5797ed6-df23-4171-bb02-fc3134b24648",
   "metadata": {},
   "outputs": [],
   "source": [
    "lst4=lst3"
   ]
  },
  {
   "cell_type": "code",
   "execution_count": 33,
   "id": "f9f12996-ac64-416a-8c51-88a815ffc8d6",
   "metadata": {},
   "outputs": [],
   "source": [
    "del lst3"
   ]
  },
  {
   "cell_type": "code",
   "execution_count": 34,
   "id": "8acce3b3-28f8-43a3-8da4-1d7d55081dd5",
   "metadata": {},
   "outputs": [
    {
     "data": {
      "text/plain": [
       "[1, 2, 3, 4]"
      ]
     },
     "execution_count": 34,
     "metadata": {},
     "output_type": "execute_result"
    }
   ],
   "source": [
    "lst4 # del only deletes the reference to the list in memory, it does not delete the list in memory"
   ]
  },
  {
   "cell_type": "code",
   "execution_count": 35,
   "id": "409b11af-8e26-4dff-928d-607d1982070d",
   "metadata": {},
   "outputs": [],
   "source": [
    "lang1.insert(2,'Typescript')"
   ]
  },
  {
   "cell_type": "code",
   "execution_count": 36,
   "id": "32f67cd1-20b7-4dfd-9444-dccf72243289",
   "metadata": {},
   "outputs": [
    {
     "data": {
      "text/plain": [
       "['C', 'C++', 'Typescript', 'Rust', 'Java']"
      ]
     },
     "execution_count": 36,
     "metadata": {},
     "output_type": "execute_result"
    }
   ],
   "source": [
    "lang1"
   ]
  },
  {
   "cell_type": "code",
   "execution_count": 37,
   "id": "6cf78ae4-de75-49f5-bfab-c350878178f0",
   "metadata": {},
   "outputs": [
    {
     "data": {
      "text/plain": [
       "'Typescript'"
      ]
     },
     "execution_count": 37,
     "metadata": {},
     "output_type": "execute_result"
    }
   ],
   "source": [
    "max(lang1) # uses mechanism to compare two strings"
   ]
  },
  {
   "cell_type": "code",
   "execution_count": 38,
   "id": "c54797f8-cc07-4927-a742-45789a5d925a",
   "metadata": {},
   "outputs": [
    {
     "data": {
      "text/plain": [
       "True"
      ]
     },
     "execution_count": 38,
     "metadata": {},
     "output_type": "execute_result"
    }
   ],
   "source": [
    "'A' < 'B'"
   ]
  },
  {
   "cell_type": "code",
   "execution_count": 39,
   "id": "f221ea4c-bf66-4fdc-a95f-a422f687aab3",
   "metadata": {},
   "outputs": [
    {
     "data": {
      "text/plain": [
       "True"
      ]
     },
     "execution_count": 39,
     "metadata": {},
     "output_type": "execute_result"
    }
   ],
   "source": [
    "'B' < 'a' # capitalization comes before lowercase"
   ]
  },
  {
   "cell_type": "code",
   "execution_count": 40,
   "id": "2d80e39b-f39b-45a0-a114-b47a7eb2c8f2",
   "metadata": {},
   "outputs": [
    {
     "data": {
      "text/plain": [
       "['C', 'C++', 'Typescript', 'Rust', 'Java']"
      ]
     },
     "execution_count": 40,
     "metadata": {},
     "output_type": "execute_result"
    }
   ],
   "source": [
    "lang1"
   ]
  },
  {
   "cell_type": "code",
   "execution_count": 41,
   "id": "83915952-1041-45a6-8f56-6e9c9a6c59c3",
   "metadata": {},
   "outputs": [],
   "source": [
    "sorted_lang=sorted(lang1)"
   ]
  },
  {
   "cell_type": "code",
   "execution_count": 42,
   "id": "df57122e-5368-4ce9-b348-8391bf87122c",
   "metadata": {},
   "outputs": [
    {
     "data": {
      "text/plain": [
       "['C', 'C++', 'Java', 'Rust', 'Typescript']"
      ]
     },
     "execution_count": 42,
     "metadata": {},
     "output_type": "execute_result"
    }
   ],
   "source": [
    "sorted_lang"
   ]
  },
  {
   "cell_type": "code",
   "execution_count": 43,
   "id": "4f3e3a7e-59c8-465f-853f-dd8e8e4efca3",
   "metadata": {},
   "outputs": [],
   "source": [
    "lang1.sort()"
   ]
  },
  {
   "cell_type": "code",
   "execution_count": 44,
   "id": "29b1dfda-6b49-4076-bf49-d3e71ca563e8",
   "metadata": {},
   "outputs": [
    {
     "data": {
      "text/plain": [
       "['C', 'C++', 'Java', 'Rust', 'Typescript']"
      ]
     },
     "execution_count": 44,
     "metadata": {},
     "output_type": "execute_result"
    }
   ],
   "source": [
    "lang1"
   ]
  },
  {
   "cell_type": "code",
   "execution_count": 45,
   "id": "9c0d4c9b-05af-4c57-b6bd-3b68e92fb144",
   "metadata": {},
   "outputs": [],
   "source": [
    "lang1.reverse()"
   ]
  },
  {
   "cell_type": "code",
   "execution_count": 46,
   "id": "c4ca0595-70d2-45f8-b921-a4063d7c81b6",
   "metadata": {},
   "outputs": [
    {
     "data": {
      "text/plain": [
       "['Typescript', 'Rust', 'Java', 'C++', 'C']"
      ]
     },
     "execution_count": 46,
     "metadata": {},
     "output_type": "execute_result"
    }
   ],
   "source": [
    "lang1"
   ]
  },
  {
   "cell_type": "code",
   "execution_count": 47,
   "id": "3ec3cb1f-542a-483b-97b8-8b22d0740b5f",
   "metadata": {},
   "outputs": [],
   "source": [
    "lang1[:3].sort()"
   ]
  },
  {
   "cell_type": "code",
   "execution_count": 48,
   "id": "870e8a3f-66d1-4340-af96-3194a79a947f",
   "metadata": {},
   "outputs": [],
   "source": [
    "test = lang1[:3].sort()"
   ]
  },
  {
   "cell_type": "code",
   "execution_count": 49,
   "id": "c32f4230-5c90-4815-90d2-6edaf789ca87",
   "metadata": {},
   "outputs": [],
   "source": [
    "test"
   ]
  },
  {
   "cell_type": "code",
   "execution_count": 50,
   "id": "d5187de8-8849-47bc-bdd5-88d795656a5c",
   "metadata": {},
   "outputs": [
    {
     "data": {
      "text/plain": [
       "['Java', 'Rust', 'Typescript']"
      ]
     },
     "execution_count": 50,
     "metadata": {},
     "output_type": "execute_result"
    }
   ],
   "source": [
    "sorted(lang1[:3])"
   ]
  },
  {
   "cell_type": "code",
   "execution_count": 51,
   "id": "149e6e20-f572-43d1-82e5-c8b6e5516493",
   "metadata": {},
   "outputs": [],
   "source": [
    "lang1.sort()"
   ]
  },
  {
   "cell_type": "code",
   "execution_count": 52,
   "id": "b029e8a5-f632-4dff-ba3a-2d87b398753f",
   "metadata": {},
   "outputs": [
    {
     "data": {
      "text/plain": [
       "['C', 'C++', 'Java', 'Rust', 'Typescript']"
      ]
     },
     "execution_count": 52,
     "metadata": {},
     "output_type": "execute_result"
    }
   ],
   "source": [
    "lang1"
   ]
  },
  {
   "cell_type": "code",
   "execution_count": 53,
   "id": "3afc5e8f-d9e3-4bb4-892b-fe23d2c16b93",
   "metadata": {},
   "outputs": [
    {
     "data": {
      "text/plain": [
       "['Typescript', 'Rust', 'Java', 'C++', 'C']"
      ]
     },
     "execution_count": 53,
     "metadata": {},
     "output_type": "execute_result"
    }
   ],
   "source": [
    "lang1[::-1]"
   ]
  },
  {
   "cell_type": "code",
   "execution_count": 54,
   "id": "54c64aa8-60a0-4f1f-9237-037a36790faa",
   "metadata": {},
   "outputs": [
    {
     "data": {
      "text/plain": [
       "'Typescript'"
      ]
     },
     "execution_count": 54,
     "metadata": {},
     "output_type": "execute_result"
    }
   ],
   "source": [
    "lang1.pop()"
   ]
  },
  {
   "cell_type": "code",
   "execution_count": 55,
   "id": "9df2460d-b56a-4e1c-99ca-d4fdc3912707",
   "metadata": {},
   "outputs": [
    {
     "data": {
      "text/plain": [
       "['C', 'C++', 'Java', 'Rust']"
      ]
     },
     "execution_count": 55,
     "metadata": {},
     "output_type": "execute_result"
    }
   ],
   "source": [
    "lang1"
   ]
  },
  {
   "cell_type": "code",
   "execution_count": 56,
   "id": "2681114b-57e1-4e65-b504-9f5464c87a73",
   "metadata": {},
   "outputs": [
    {
     "data": {
      "text/plain": [
       "2"
      ]
     },
     "execution_count": 56,
     "metadata": {},
     "output_type": "execute_result"
    }
   ],
   "source": [
    "lang1.index('Java')"
   ]
  },
  {
   "cell_type": "code",
   "execution_count": 57,
   "id": "63d2b79a-74b7-4b39-a25c-83b2f8940013",
   "metadata": {},
   "outputs": [
    {
     "ename": "ValueError",
     "evalue": "'ML' is not in list",
     "output_type": "error",
     "traceback": [
      "\u001b[0;31m---------------------------------------------------------------------------\u001b[0m",
      "\u001b[0;31mValueError\u001b[0m                                Traceback (most recent call last)",
      "\u001b[0;32m/var/folders/fp/_7x5x4s175369fk6b5b5xhy40000gn/T/ipykernel_99319/29521293.py\u001b[0m in \u001b[0;36m<module>\u001b[0;34m\u001b[0m\n\u001b[0;32m----> 1\u001b[0;31m \u001b[0mlang1\u001b[0m\u001b[0;34m.\u001b[0m\u001b[0mindex\u001b[0m\u001b[0;34m(\u001b[0m\u001b[0;34m'ML'\u001b[0m\u001b[0;34m)\u001b[0m\u001b[0;34m\u001b[0m\u001b[0;34m\u001b[0m\u001b[0m\n\u001b[0m",
      "\u001b[0;31mValueError\u001b[0m: 'ML' is not in list"
     ]
    }
   ],
   "source": [
    "lang1.index('ML')"
   ]
  },
  {
   "cell_type": "code",
   "execution_count": 58,
   "id": "a349b893-7654-4ac0-8e2c-89a28a88bdfb",
   "metadata": {},
   "outputs": [],
   "source": [
    "t = (1,3)"
   ]
  },
  {
   "cell_type": "code",
   "execution_count": 59,
   "id": "6858218b-2a9a-4ef7-a95d-05c938eb8368",
   "metadata": {},
   "outputs": [
    {
     "data": {
      "text/plain": [
       "(1, 3)"
      ]
     },
     "execution_count": 59,
     "metadata": {},
     "output_type": "execute_result"
    }
   ],
   "source": [
    "t"
   ]
  },
  {
   "cell_type": "code",
   "execution_count": 60,
   "id": "1d333234-5ef1-427b-8567-a839b9a3c9fd",
   "metadata": {},
   "outputs": [
    {
     "data": {
      "text/plain": [
       "1"
      ]
     },
     "execution_count": 60,
     "metadata": {},
     "output_type": "execute_result"
    }
   ],
   "source": [
    "t[0]"
   ]
  },
  {
   "cell_type": "code",
   "execution_count": 61,
   "id": "49ed98df-92b8-440d-9f46-942c7b0f2185",
   "metadata": {},
   "outputs": [
    {
     "data": {
      "text/plain": [
       "3"
      ]
     },
     "execution_count": 61,
     "metadata": {},
     "output_type": "execute_result"
    }
   ],
   "source": [
    "t[1]"
   ]
  },
  {
   "cell_type": "code",
   "execution_count": 62,
   "id": "a4913258-68c2-4d89-ba2f-0dcf746c9907",
   "metadata": {},
   "outputs": [
    {
     "data": {
      "text/plain": [
       "2"
      ]
     },
     "execution_count": 62,
     "metadata": {},
     "output_type": "execute_result"
    }
   ],
   "source": [
    "len(t)"
   ]
  },
  {
   "cell_type": "code",
   "execution_count": 63,
   "id": "e8856420-bf3f-4cba-8e77-2ee2a4779653",
   "metadata": {},
   "outputs": [
    {
     "ename": "TypeError",
     "evalue": "'tuple' object does not support item assignment",
     "output_type": "error",
     "traceback": [
      "\u001b[0;31m---------------------------------------------------------------------------\u001b[0m",
      "\u001b[0;31mTypeError\u001b[0m                                 Traceback (most recent call last)",
      "\u001b[0;32m/var/folders/fp/_7x5x4s175369fk6b5b5xhy40000gn/T/ipykernel_99319/3534548842.py\u001b[0m in \u001b[0;36m<module>\u001b[0;34m\u001b[0m\n\u001b[0;32m----> 1\u001b[0;31m \u001b[0mt\u001b[0m\u001b[0;34m[\u001b[0m\u001b[0;36m1\u001b[0m\u001b[0;34m]\u001b[0m\u001b[0;34m=\u001b[0m\u001b[0;36m4\u001b[0m \u001b[0;31m#tuples are immutable (like an immutable list)\u001b[0m\u001b[0;34m\u001b[0m\u001b[0;34m\u001b[0m\u001b[0m\n\u001b[0m",
      "\u001b[0;31mTypeError\u001b[0m: 'tuple' object does not support item assignment"
     ]
    }
   ],
   "source": [
    "t[1]=4 #tuples are immutable (like an immutable list)"
   ]
  },
  {
   "cell_type": "code",
   "execution_count": 64,
   "id": "a21e3626-7374-4a28-9664-b9228a35f41c",
   "metadata": {},
   "outputs": [],
   "source": [
    "c,d=4,5 # looks like assigning multiple variables at a time, really just unpacking a tuple"
   ]
  },
  {
   "cell_type": "code",
   "execution_count": 66,
   "id": "f81731d3-9b64-4c11-b9bc-e863e26899f9",
   "metadata": {},
   "outputs": [
    {
     "name": "stdout",
     "output_type": "stream",
     "text": [
      "4\n"
     ]
    },
    {
     "data": {
      "text/plain": [
       "5"
      ]
     },
     "execution_count": 66,
     "metadata": {},
     "output_type": "execute_result"
    }
   ],
   "source": [
    "print(c)\n",
    "d"
   ]
  },
  {
   "cell_type": "code",
   "execution_count": 73,
   "id": "323a381f-e36d-4936-b622-2163fb0035b3",
   "metadata": {},
   "outputs": [],
   "source": [
    "triples=[('a',1,False),('d',2,True)]"
   ]
  },
  {
   "cell_type": "code",
   "execution_count": 74,
   "id": "90ee693a-a52b-4530-963d-2a68be7fb658",
   "metadata": {},
   "outputs": [
    {
     "name": "stdout",
     "output_type": "stream",
     "text": [
      "a 1 False\n",
      "d 2 True\n"
     ]
    }
   ],
   "source": [
    "for x,y,z in triples:\n",
    "    print(x,y,z)"
   ]
  },
  {
   "cell_type": "code",
   "execution_count": 75,
   "id": "b1ec56ce-43ae-4afc-b093-3977e3191b7b",
   "metadata": {},
   "outputs": [
    {
     "name": "stdout",
     "output_type": "stream",
     "text": [
      "a False\n",
      "d True\n"
     ]
    }
   ],
   "source": [
    "for x,_,z in triples:\n",
    "    print(x,z)"
   ]
  },
  {
   "cell_type": "code",
   "execution_count": 76,
   "id": "50c4fca4-7c7d-4d82-8b11-e9c726087102",
   "metadata": {},
   "outputs": [
    {
     "name": "stdout",
     "output_type": "stream",
     "text": [
      "('a', 1, False)\n",
      "('d', 2, True)\n"
     ]
    }
   ],
   "source": [
    "for x in triples:\n",
    "    print(x)"
   ]
  },
  {
   "cell_type": "code",
   "execution_count": null,
   "id": "bb962a70-e85a-490f-9ca1-39e29b4b522e",
   "metadata": {},
   "outputs": [],
   "source": []
  }
 ],
 "metadata": {
  "kernelspec": {
   "display_name": "Python 3 (ipykernel)",
   "language": "python",
   "name": "python3"
  },
  "language_info": {
   "codemirror_mode": {
    "name": "ipython",
    "version": 3
   },
   "file_extension": ".py",
   "mimetype": "text/x-python",
   "name": "python",
   "nbconvert_exporter": "python",
   "pygments_lexer": "ipython3",
   "version": "3.9.7"
  }
 },
 "nbformat": 4,
 "nbformat_minor": 5
}
