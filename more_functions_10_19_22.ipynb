{
 "cells": [
  {
   "cell_type": "markdown",
   "id": "d3497ee2-6a5c-4490-8f14-5f782615e829",
   "metadata": {},
   "source": [
    "Functions should have\n",
    "1. purpose\n",
    "2. inputs + types\n",
    "   outputs + types\n",
    "3. sample input and outputs\n",
    "4. doc string\n",
    "5. write code\n",
    "6. test"
   ]
  },
  {
   "cell_type": "code",
   "execution_count": 1,
   "id": "514bd4ce-5bfe-42bb-8ce1-0642113f3763",
   "metadata": {},
   "outputs": [],
   "source": [
    "def absolute(n):\n",
    "    \"\"\"\n",
    "    Compute |n|\n",
    "    \n",
    "    Input:\n",
    "        n (int): the value whose absolute value we want\n",
    "    Returns:\n",
    "        (int) |n|\n",
    "    \"\"\"\n",
    "    if n >= 0:\n",
    "        return n\n",
    "    else:\n",
    "        return -n"
   ]
  },
  {
   "cell_type": "markdown",
   "id": "66fc1a45-c457-40fe-adb0-03f8e5cf35b4",
   "metadata": {},
   "source": [
    "`return` immediately exits the function\n",
    "\n",
    "since this is the case, you should never have code after an unguarded return"
   ]
  },
  {
   "cell_type": "code",
   "execution_count": 14,
   "id": "06d71f66-ef1f-4047-a3fa-0fccad3424c4",
   "metadata": {},
   "outputs": [],
   "source": [
    "def minmax(lst):\n",
    "    \"\"\"\n",
    "    Compute min of lst and max of lst\n",
    "    \n",
    "    Input:\n",
    "        lst (list): non-empty list of integers\n",
    "    Returns:\n",
    "        (int, int) smallest and largest values of lst\n",
    "    \"\"\"\n",
    "    \n",
    "    assert len(lst) > 0\n",
    "    return max(lst),min(lst)"
   ]
  },
  {
   "cell_type": "code",
   "execution_count": 15,
   "id": "a6117508-532c-4a41-9067-520f8ae63ea6",
   "metadata": {},
   "outputs": [],
   "source": [
    "import random"
   ]
  },
  {
   "cell_type": "code",
   "execution_count": 16,
   "id": "279d9a1b-a028-40ba-875f-95e5b8329263",
   "metadata": {},
   "outputs": [],
   "source": [
    "def gen_randint(n, low, high):\n",
    "    \"\"\"\n",
    "    Given integers n, low, and high, produces a list of n random integers between low and high.\n",
    "    \n",
    "    Input:\n",
    "        n (int0: number of integers to generate, should be positive\n",
    "        low (int): lower bound (default: 0)\n",
    "        high (int): upper bound, greater than low (default: 100)\n",
    "        \n",
    "    Returns: list of n integers between low and high (list[int])\n",
    "    \"\"\"\n",
    "    \n",
    "    lst = []\n",
    "    for _ in range(n):\n",
    "        lst.append(random.randint(low,high))\n",
    "    return lst"
   ]
  },
  {
   "cell_type": "code",
   "execution_count": 17,
   "id": "46499887-6928-4fc3-babf-304ff0d27648",
   "metadata": {},
   "outputs": [
    {
     "data": {
      "text/plain": [
       "[19, 48, 95, 33, 10]"
      ]
     },
     "execution_count": 17,
     "metadata": {},
     "output_type": "execute_result"
    }
   ],
   "source": [
    "gen_randint(5,0,100)"
   ]
  },
  {
   "cell_type": "code",
   "execution_count": 18,
   "id": "7b4cc5a3-abb2-4b86-a7a4-18c351783f23",
   "metadata": {},
   "outputs": [],
   "source": [
    "def gen_randint(n, low=0, high=100):\n",
    "    \"\"\"\n",
    "    Given integers n, low, and high, produces a list of n random integers between low and high.\n",
    "    \n",
    "    Input:\n",
    "        n (int0: number of integers to generate, should be positive\n",
    "        low (int): lower bound (default: 0)\n",
    "        high (int): upper bound, greater than low (default: 100)\n",
    "        \n",
    "    Returns: list of n integers between low and high (list[int])\n",
    "    \"\"\"\n",
    "    \n",
    "    lst = []\n",
    "    for _ in range(n):\n",
    "        lst.append(random.randint(low,high))\n",
    "    return lst"
   ]
  },
  {
   "cell_type": "code",
   "execution_count": 19,
   "id": "2a832e3e-8fbc-4dc6-a45d-517ee4a88240",
   "metadata": {},
   "outputs": [
    {
     "data": {
      "text/plain": [
       "[36, 100, 14, 28, 12, 91]"
      ]
     },
     "execution_count": 19,
     "metadata": {},
     "output_type": "execute_result"
    }
   ],
   "source": [
    "gen_randint(6)"
   ]
  },
  {
   "cell_type": "code",
   "execution_count": null,
   "id": "7104ac56-37f4-4cc2-999f-5fe48ad97657",
   "metadata": {},
   "outputs": [],
   "source": []
  }
 ],
 "metadata": {
  "kernelspec": {
   "display_name": "Python 3 (ipykernel)",
   "language": "python",
   "name": "python3"
  },
  "language_info": {
   "codemirror_mode": {
    "name": "ipython",
    "version": 3
   },
   "file_extension": ".py",
   "mimetype": "text/x-python",
   "name": "python",
   "nbconvert_exporter": "python",
   "pygments_lexer": "ipython3",
   "version": "3.9.7"
  }
 },
 "nbformat": 4,
 "nbformat_minor": 5
}
