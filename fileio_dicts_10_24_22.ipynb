{
 "cells": [
  {
   "cell_type": "markdown",
   "id": "0ecbdbc5-1faa-495c-a26e-46fc0239aac3",
   "metadata": {},
   "source": [
    "### File I/O\n",
    "1. read in data\n",
    "2. transform it in some way\n",
    "3. write it back out"
   ]
  },
  {
   "cell_type": "code",
   "execution_count": 7,
   "id": "084aac80-17b8-49e0-a9b5-37b2cfc9b59b",
   "metadata": {},
   "outputs": [],
   "source": [
    "f = open(\"instructor-emails.txt\")"
   ]
  },
  {
   "cell_type": "code",
   "execution_count": 8,
   "id": "af3811a1-e518-4a1b-8bb5-a447c85d6edd",
   "metadata": {},
   "outputs": [
    {
     "data": {
      "text/plain": [
       "<_io.TextIOWrapper name='instructor-emails.txt' mode='r' encoding='UTF-8'>"
      ]
     },
     "execution_count": 8,
     "metadata": {},
     "output_type": "execute_result"
    }
   ],
   "source": [
    "f"
   ]
  },
  {
   "cell_type": "code",
   "execution_count": 9,
   "id": "e8f75afb-16cd-44a8-8a66-30f8bc3b31d3",
   "metadata": {},
   "outputs": [
    {
     "data": {
      "text/plain": [
       "'amr@cs.uchicago.edu\\naelmore@cs.uchicago.edu\\ntimng@cs.uchicago.edu\\nkalea@uchicago.edu'"
      ]
     },
     "execution_count": 9,
     "metadata": {},
     "output_type": "execute_result"
    }
   ],
   "source": [
    "f.read()"
   ]
  },
  {
   "cell_type": "code",
   "execution_count": 10,
   "id": "ad5dc41a-6f09-4469-a589-2412f4346d4d",
   "metadata": {},
   "outputs": [
    {
     "data": {
      "text/plain": [
       "''"
      ]
     },
     "execution_count": 10,
     "metadata": {},
     "output_type": "execute_result"
    }
   ],
   "source": [
    "data = f.read()\n",
    "data # no more data to read"
   ]
  },
  {
   "cell_type": "code",
   "execution_count": 11,
   "id": "c69d653b-031d-4105-94de-1ff479b3547b",
   "metadata": {},
   "outputs": [],
   "source": [
    "f.close()"
   ]
  },
  {
   "cell_type": "code",
   "execution_count": 13,
   "id": "691facc0-e433-4845-b280-d6045997361d",
   "metadata": {},
   "outputs": [],
   "source": [
    "f = open(\"instructor-emails.txt\")\n",
    "addrs = f.read()"
   ]
  },
  {
   "cell_type": "code",
   "execution_count": 14,
   "id": "c98d8a7d-3386-4cc8-873a-08bf5bae3ed0",
   "metadata": {},
   "outputs": [
    {
     "data": {
      "text/plain": [
       "'amr@cs.uchicago.edu\\naelmore@cs.uchicago.edu\\ntimng@cs.uchicago.edu\\nkalea@uchicago.edu'"
      ]
     },
     "execution_count": 14,
     "metadata": {},
     "output_type": "execute_result"
    }
   ],
   "source": [
    "addrs"
   ]
  },
  {
   "cell_type": "code",
   "execution_count": 15,
   "id": "3d2c9a7e-187c-4095-8472-b315c7e04525",
   "metadata": {},
   "outputs": [
    {
     "name": "stdout",
     "output_type": "stream",
     "text": [
      "amr@cs.uchicago.edu\n",
      "aelmore@cs.uchicago.edu\n",
      "timng@cs.uchicago.edu\n",
      "kalea@uchicago.edu\n"
     ]
    }
   ],
   "source": [
    "print(addrs)"
   ]
  },
  {
   "cell_type": "code",
   "execution_count": 16,
   "id": "ac31621e-d654-4c7b-9640-45a99522fffb",
   "metadata": {},
   "outputs": [
    {
     "data": {
      "text/plain": [
       "['amr@cs.uchicago.edu',\n",
       " 'aelmore@cs.uchicago.edu',\n",
       " 'timng@cs.uchicago.edu',\n",
       " 'kalea@uchicago.edu']"
      ]
     },
     "execution_count": 16,
     "metadata": {},
     "output_type": "execute_result"
    }
   ],
   "source": [
    "addrs.split()"
   ]
  },
  {
   "cell_type": "code",
   "execution_count": 19,
   "id": "60ac7930-73e3-4f1f-9772-912efc41443d",
   "metadata": {},
   "outputs": [
    {
     "name": "stdout",
     "output_type": "stream",
     "text": [
      "amr@cs.uchicago.edu\n",
      "aelmore@cs.uchicago.edu\n",
      "timng@cs.uchicago.edu\n",
      "kalea@uchicago.edu\n"
     ]
    }
   ],
   "source": [
    "with open (\"instructor-emails.txt\") as f:\n",
    "    addrs = f.read()\n",
    "    print(addrs)"
   ]
  },
  {
   "cell_type": "code",
   "execution_count": 20,
   "id": "6304c80e-a274-435e-943c-bb29c977d4d5",
   "metadata": {},
   "outputs": [
    {
     "ename": "ValueError",
     "evalue": "I/O operation on closed file.",
     "output_type": "error",
     "traceback": [
      "\u001b[0;31m---------------------------------------------------------------------------\u001b[0m",
      "\u001b[0;31mValueError\u001b[0m                                Traceback (most recent call last)",
      "\u001b[0;32m/var/folders/fp/_7x5x4s175369fk6b5b5xhy40000gn/T/ipykernel_48641/3824264645.py\u001b[0m in \u001b[0;36m<module>\u001b[0;34m\u001b[0m\n\u001b[0;32m----> 1\u001b[0;31m \u001b[0mf\u001b[0m\u001b[0;34m.\u001b[0m\u001b[0mread\u001b[0m\u001b[0;34m(\u001b[0m\u001b[0;34m)\u001b[0m \u001b[0;31m#with automatically open and closes a file\u001b[0m\u001b[0;34m\u001b[0m\u001b[0;34m\u001b[0m\u001b[0m\n\u001b[0m",
      "\u001b[0;31mValueError\u001b[0m: I/O operation on closed file."
     ]
    }
   ],
   "source": [
    "f.read() #with automatically open and closes a file"
   ]
  },
  {
   "cell_type": "code",
   "execution_count": 22,
   "id": "adea8029-d36c-408a-9bc1-2d9fbd70330d",
   "metadata": {},
   "outputs": [
    {
     "name": "stdout",
     "output_type": "stream",
     "text": [
      "['amr@cs.uchicago.edu\\n', 'aelmore@cs.uchicago.edu\\n', 'timng@cs.uchicago.edu\\n', 'kalea@uchicago.edu']\n"
     ]
    }
   ],
   "source": [
    "with open (\"instructor-emails.txt\") as f:\n",
    "    data = f.readlines()\n",
    "    print(data)"
   ]
  },
  {
   "cell_type": "code",
   "execution_count": 24,
   "id": "52ecf8ad-d8a1-4dd9-9344-4c7af4712c90",
   "metadata": {},
   "outputs": [
    {
     "name": "stdout",
     "output_type": "stream",
     "text": [
      "'amr@cs.uchicago.edu\\n'\n",
      "'aelmore@cs.uchicago.edu\\n'\n",
      "'timng@cs.uchicago.edu\\n'\n",
      "'kalea@uchicago.edu'\n"
     ]
    }
   ],
   "source": [
    "with open (\"instructor-emails.txt\") as f:\n",
    "    for addr in f.readlines():\n",
    "        print(repr(addr))"
   ]
  },
  {
   "cell_type": "code",
   "execution_count": 25,
   "id": "0e88104a-323f-41e5-a935-d83c203a6862",
   "metadata": {},
   "outputs": [],
   "source": [
    "addrs = []"
   ]
  },
  {
   "cell_type": "code",
   "execution_count": 26,
   "id": "1ac794f0-c07e-431f-ac28-a2d198916400",
   "metadata": {},
   "outputs": [],
   "source": [
    "with open (\"instructor-emails.txt\") as f:\n",
    "    for addr in f:\n",
    "        addrs.append(addr.strip())"
   ]
  },
  {
   "cell_type": "code",
   "execution_count": 27,
   "id": "c3a08d50-1a12-49c5-9e9e-6352e856af0f",
   "metadata": {},
   "outputs": [
    {
     "data": {
      "text/plain": [
       "['amr@cs.uchicago.edu',\n",
       " 'aelmore@cs.uchicago.edu',\n",
       " 'timng@cs.uchicago.edu',\n",
       " 'kalea@uchicago.edu']"
      ]
     },
     "execution_count": 27,
     "metadata": {},
     "output_type": "execute_result"
    }
   ],
   "source": [
    "addrs"
   ]
  },
  {
   "cell_type": "code",
   "execution_count": 32,
   "id": "623acd58-497a-4763-b164-9b98f5217e02",
   "metadata": {},
   "outputs": [],
   "source": [
    "cnets = []\n",
    "for addr in addrs:\n",
    "    cnet, _ = addr.split(\"@\")\n",
    "    cnets.append(cnet)"
   ]
  },
  {
   "cell_type": "code",
   "execution_count": 33,
   "id": "2c8c169d-933e-400d-8abc-fb8a0142620c",
   "metadata": {},
   "outputs": [
    {
     "data": {
      "text/plain": [
       "['amr', 'aelmore', 'timng', 'kalea']"
      ]
     },
     "execution_count": 33,
     "metadata": {},
     "output_type": "execute_result"
    }
   ],
   "source": [
    "cnets"
   ]
  },
  {
   "cell_type": "code",
   "execution_count": 35,
   "id": "460eb7c3-7491-438b-bc9a-71d5260df8ff",
   "metadata": {},
   "outputs": [],
   "source": [
    "f = open(\"instructor-names.txt\", \"w\") #write"
   ]
  },
  {
   "cell_type": "code",
   "execution_count": 36,
   "id": "cb8bffb6-8876-4e8b-b094-0bf8fc069c22",
   "metadata": {},
   "outputs": [
    {
     "data": {
      "text/plain": [
       "12"
      ]
     },
     "execution_count": 36,
     "metadata": {},
     "output_type": "execute_result"
    }
   ],
   "source": [
    "f.write(\"Anne Rogers\\n\")"
   ]
  },
  {
   "cell_type": "code",
   "execution_count": 38,
   "id": "cf720dfc-e39e-449c-9533-ba0e9800f896",
   "metadata": {},
   "outputs": [
    {
     "data": {
      "text/plain": [
       "13"
      ]
     },
     "execution_count": 38,
     "metadata": {},
     "output_type": "execute_result"
    }
   ],
   "source": [
    "f.write(\"Aaron Elmore\\n\") #output is number of characters written"
   ]
  },
  {
   "cell_type": "code",
   "execution_count": 39,
   "id": "cb8bee6d-b4f9-48d6-a28b-efc6f2fda345",
   "metadata": {},
   "outputs": [],
   "source": [
    "f.close()"
   ]
  },
  {
   "cell_type": "code",
   "execution_count": 40,
   "id": "8beb69c2-1bf2-4263-92f1-bfc6e118b47a",
   "metadata": {},
   "outputs": [
    {
     "name": "stdout",
     "output_type": "stream",
     "text": [
      "Anne Rogers\n",
      "Aaron Elmore\n"
     ]
    }
   ],
   "source": [
    "cat \"instructor-names.txt\""
   ]
  },
  {
   "cell_type": "code",
   "execution_count": 41,
   "id": "56536c51-33d7-4cc8-a1da-23148e646163",
   "metadata": {},
   "outputs": [],
   "source": [
    "f = open(\"instructor-names.txt\", \"w\")"
   ]
  },
  {
   "cell_type": "code",
   "execution_count": 42,
   "id": "602cdda3-9622-43f7-a462-c46f891fd088",
   "metadata": {},
   "outputs": [],
   "source": [
    "print(\"Alex Kale\", file=f)"
   ]
  },
  {
   "cell_type": "code",
   "execution_count": 43,
   "id": "73d66b8d-f413-4555-89cc-e23a3959efa5",
   "metadata": {},
   "outputs": [],
   "source": [
    "print(\"Tim Ng\", file=f)"
   ]
  },
  {
   "cell_type": "code",
   "execution_count": 44,
   "id": "cfe01985-5fbf-4826-862e-97a4122c4416",
   "metadata": {},
   "outputs": [],
   "source": [
    "f.close()"
   ]
  },
  {
   "cell_type": "code",
   "execution_count": 45,
   "id": "11448782-ef14-461d-913a-e2cef812adf8",
   "metadata": {},
   "outputs": [
    {
     "name": "stdout",
     "output_type": "stream",
     "text": [
      "Alex Kale\n",
      "Tim Ng\n"
     ]
    }
   ],
   "source": [
    "cat instructor-names.txt"
   ]
  },
  {
   "cell_type": "markdown",
   "id": "47d8b2f4-66b6-48fb-8123-42c3e51e5bb2",
   "metadata": {},
   "source": [
    "### Dictionaries\n",
    "\n",
    "key -> value pairs\n",
    "\n",
    "key must be a data type that is not mutable e.g. string, int"
   ]
  },
  {
   "cell_type": "code",
   "execution_count": 46,
   "id": "0a3c53a1-2862-40d7-8977-988186aa1eab",
   "metadata": {},
   "outputs": [],
   "source": [
    "d = {}"
   ]
  },
  {
   "cell_type": "code",
   "execution_count": 47,
   "id": "f14725b3-d7c6-4039-8739-eeb79ac01985",
   "metadata": {},
   "outputs": [],
   "source": [
    "d[\"A\"] = 4.0"
   ]
  },
  {
   "cell_type": "code",
   "execution_count": 48,
   "id": "7ed26b51-0b3f-4883-944f-3aecb0a0f4ff",
   "metadata": {},
   "outputs": [],
   "source": [
    "d[\"A-\"] = 3.7"
   ]
  },
  {
   "cell_type": "code",
   "execution_count": 50,
   "id": "d87f57d4-0030-4d44-9dcb-a4a27b505f51",
   "metadata": {},
   "outputs": [],
   "source": [
    "d[\"B+\"] = 3.33"
   ]
  },
  {
   "cell_type": "code",
   "execution_count": 57,
   "id": "58dba541-d7e8-414a-aab6-42d4f3498551",
   "metadata": {},
   "outputs": [
    {
     "data": {
      "text/plain": [
       "{'A': 4.0, 'A-': 3.7, 'B+': 3.33}"
      ]
     },
     "execution_count": 57,
     "metadata": {},
     "output_type": "execute_result"
    }
   ],
   "source": [
    "d"
   ]
  },
  {
   "cell_type": "code",
   "execution_count": 58,
   "id": "ebb4d592-32f9-4ed1-a3e3-44f61e3ec7ae",
   "metadata": {},
   "outputs": [
    {
     "data": {
      "text/plain": [
       "4.0"
      ]
     },
     "execution_count": 58,
     "metadata": {},
     "output_type": "execute_result"
    }
   ],
   "source": [
    "d['A']"
   ]
  },
  {
   "cell_type": "code",
   "execution_count": 59,
   "id": "cb231f78-5a22-4713-a30c-a5e72f945e73",
   "metadata": {},
   "outputs": [
    {
     "ename": "KeyError",
     "evalue": "'c+'",
     "output_type": "error",
     "traceback": [
      "\u001b[0;31m---------------------------------------------------------------------------\u001b[0m",
      "\u001b[0;31mKeyError\u001b[0m                                  Traceback (most recent call last)",
      "\u001b[0;32m/var/folders/fp/_7x5x4s175369fk6b5b5xhy40000gn/T/ipykernel_48641/1774335366.py\u001b[0m in \u001b[0;36m<module>\u001b[0;34m\u001b[0m\n\u001b[0;32m----> 1\u001b[0;31m \u001b[0md\u001b[0m\u001b[0;34m[\u001b[0m\u001b[0;34m'c+'\u001b[0m\u001b[0;34m]\u001b[0m\u001b[0;34m\u001b[0m\u001b[0;34m\u001b[0m\u001b[0m\n\u001b[0m",
      "\u001b[0;31mKeyError\u001b[0m: 'c+'"
     ]
    }
   ],
   "source": [
    "d['c+']"
   ]
  },
  {
   "cell_type": "code",
   "execution_count": 60,
   "id": "e5bd7718-a05f-485d-bbb9-e5ba3b9804f8",
   "metadata": {},
   "outputs": [],
   "source": [
    "d['A'] = 27"
   ]
  },
  {
   "cell_type": "code",
   "execution_count": 61,
   "id": "24e73fe6-a78c-4b62-b176-fbdb6ab7bd42",
   "metadata": {},
   "outputs": [
    {
     "data": {
      "text/plain": [
       "27"
      ]
     },
     "execution_count": 61,
     "metadata": {},
     "output_type": "execute_result"
    }
   ],
   "source": [
    "d['A']"
   ]
  },
  {
   "cell_type": "code",
   "execution_count": 62,
   "id": "d6c88bbc-3a49-48b6-b89a-aec2339fed49",
   "metadata": {},
   "outputs": [
    {
     "data": {
      "text/plain": [
       "27"
      ]
     },
     "execution_count": 62,
     "metadata": {},
     "output_type": "execute_result"
    }
   ],
   "source": [
    "d.get('A',0)"
   ]
  },
  {
   "cell_type": "code",
   "execution_count": 63,
   "id": "ec944e7d-a137-4df9-8ad0-3bd8c1228477",
   "metadata": {},
   "outputs": [
    {
     "data": {
      "text/plain": [
       "0"
      ]
     },
     "execution_count": 63,
     "metadata": {},
     "output_type": "execute_result"
    }
   ],
   "source": [
    "d.get('b',0)"
   ]
  },
  {
   "cell_type": "code",
   "execution_count": 64,
   "id": "c593584d-5ca9-460a-8b59-7978f92dd441",
   "metadata": {},
   "outputs": [],
   "source": [
    "s = {'A':5,'b':7,'c':8}"
   ]
  },
  {
   "cell_type": "code",
   "execution_count": 65,
   "id": "8fae39c2-8e5d-4aef-92b0-7b4943aa5c80",
   "metadata": {},
   "outputs": [
    {
     "data": {
      "text/plain": [
       "{'A': 5, 'b': 7, 'c': 8}"
      ]
     },
     "execution_count": 65,
     "metadata": {},
     "output_type": "execute_result"
    }
   ],
   "source": [
    "s"
   ]
  },
  {
   "cell_type": "code",
   "execution_count": 66,
   "id": "fc24a7c4-e07a-48eb-9b3c-08e2e6906ed3",
   "metadata": {},
   "outputs": [
    {
     "data": {
      "text/plain": [
       "dict_keys(['A', 'A-', 'B+'])"
      ]
     },
     "execution_count": 66,
     "metadata": {},
     "output_type": "execute_result"
    }
   ],
   "source": [
    "d.keys()"
   ]
  },
  {
   "cell_type": "code",
   "execution_count": 67,
   "id": "db907c20-d770-4bb8-adb6-6e5c678e4c21",
   "metadata": {},
   "outputs": [
    {
     "data": {
      "text/plain": [
       "dict_values([27, 3.7, 3.33])"
      ]
     },
     "execution_count": 67,
     "metadata": {},
     "output_type": "execute_result"
    }
   ],
   "source": [
    "d.values()"
   ]
  },
  {
   "cell_type": "code",
   "execution_count": 68,
   "id": "fa3a605c-661d-4a8e-87e2-e48a0ee2bf2a",
   "metadata": {},
   "outputs": [
    {
     "data": {
      "text/plain": [
       "dict_items([('A', 27), ('A-', 3.7), ('B+', 3.33)])"
      ]
     },
     "execution_count": 68,
     "metadata": {},
     "output_type": "execute_result"
    }
   ],
   "source": [
    "d.items()"
   ]
  },
  {
   "cell_type": "code",
   "execution_count": 69,
   "id": "3c6b25de-e2d7-4e53-8b67-9e0dc3d9c357",
   "metadata": {},
   "outputs": [
    {
     "name": "stdout",
     "output_type": "stream",
     "text": [
      "A 27\n",
      "A- 3.7\n",
      "B+ 3.33\n"
     ]
    }
   ],
   "source": [
    "for key in d: #python automatically assumes you want to iterate over the keys\n",
    "    print(key,d[key])"
   ]
  },
  {
   "cell_type": "code",
   "execution_count": 71,
   "id": "16091148-2788-4622-9da4-1e9aeef4ea6e",
   "metadata": {},
   "outputs": [
    {
     "name": "stdout",
     "output_type": "stream",
     "text": [
      "A 27\n",
      "A- 3.7\n",
      "B+ 3.33\n"
     ]
    }
   ],
   "source": [
    "for k, v in d.items():\n",
    "    print(k, v)"
   ]
  },
  {
   "cell_type": "code",
   "execution_count": 72,
   "id": "481e6240-1206-4c31-8f3d-43ee1b909daf",
   "metadata": {},
   "outputs": [
    {
     "data": {
      "text/plain": [
       "27"
      ]
     },
     "execution_count": 72,
     "metadata": {},
     "output_type": "execute_result"
    }
   ],
   "source": [
    "max(d.values())"
   ]
  },
  {
   "cell_type": "code",
   "execution_count": 73,
   "id": "dd02ec22-38b2-4de4-84ae-4f4a463a5f14",
   "metadata": {},
   "outputs": [
    {
     "name": "stdout",
     "output_type": "stream",
     "text": [
      "A 27\n",
      "A- 3.7\n",
      "B+ 3.33\n"
     ]
    }
   ],
   "source": [
    "for key in sorted(d):\n",
    "    print(key,d[key])"
   ]
  },
  {
   "cell_type": "code",
   "execution_count": 74,
   "id": "3a4558cf-90ca-4a92-ac2a-e19894b8e1bc",
   "metadata": {},
   "outputs": [
    {
     "data": {
      "text/plain": [
       "[('A', 27), ('A-', 3.7), ('B+', 3.33)]"
      ]
     },
     "execution_count": 74,
     "metadata": {},
     "output_type": "execute_result"
    }
   ],
   "source": [
    "list(d.items())"
   ]
  },
  {
   "cell_type": "code",
   "execution_count": null,
   "id": "9c2bbedf-3f61-474e-b359-8c35440ca67f",
   "metadata": {},
   "outputs": [],
   "source": [
    "{k,v for k,v in sorted(d."
   ]
  }
 ],
 "metadata": {
  "kernelspec": {
   "display_name": "Python 3 (ipykernel)",
   "language": "python",
   "name": "python3"
  },
  "language_info": {
   "codemirror_mode": {
    "name": "ipython",
    "version": 3
   },
   "file_extension": ".py",
   "mimetype": "text/x-python",
   "name": "python",
   "nbconvert_exporter": "python",
   "pygments_lexer": "ipython3",
   "version": "3.9.7"
  }
 },
 "nbformat": 4,
 "nbformat_minor": 5
}
