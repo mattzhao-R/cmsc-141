{
 "cells": [
  {
   "cell_type": "markdown",
   "id": "309a0e36-49bc-40d1-b768-4904dec169e3",
   "metadata": {},
   "source": [
    "Example of dict application: biology\n",
    "\n",
    "A, C, G, T 1-mer\n",
    "\n",
    "AA, AC, AG, AT ... 2-mer\n",
    "\n",
    "AAA AAC ... 3-mer\n",
    "\n"
   ]
  },
  {
   "cell_type": "code",
   "execution_count": 1,
   "id": "eb4c6898-7485-4e21-96d8-acdc726d1555",
   "metadata": {},
   "outputs": [],
   "source": [
    "def generate_dna_kmers(k):\n",
    "    '''\n",
    "    return a list of all possible substrings of length k using only chars A, C, T, and G\n",
    "    '''\n",
    "    bases = ['A','C','T','G']\n",
    "    \n",
    "    last = bases # last = ['']\n",
    "    for _ in range(k-1): # for _ in range(k):\n",
    "        current = []\n",
    "        for b in bases:\n",
    "                for l in last:\n",
    "                    current.append(l+b)\n",
    "        last = current\n",
    "    return last"
   ]
  },
  {
   "cell_type": "code",
   "execution_count": 4,
   "id": "220e1c9d-65ca-4549-9e0a-5bd34b061b7d",
   "metadata": {},
   "outputs": [],
   "source": [
    "def counter_mer(mer, seq):\n",
    "    ''' \n",
    "    Counts the number of times a substring mer\n",
    "    occurs in the sequence seq (including overlapping \n",
    "    occurrences)\n",
    "    \n",
    "    sample use: counter_mer(\"GGG\", \"AGGGCGGG\") => 2\n",
    "    '''\n",
    "    \n",
    "    k = len(mer)\n",
    "    count = 0\n",
    "    for i in range(0, len(seq)-k+1):\n",
    "        if mer == seq[i:i+k]:\n",
    "            count += 1\n",
    "    return count"
   ]
  },
  {
   "cell_type": "code",
   "execution_count": 5,
   "id": "1cda5758-c3f1-451a-8fe8-2315fff2e83f",
   "metadata": {},
   "outputs": [
    {
     "data": {
      "text/plain": [
       "2"
      ]
     },
     "execution_count": 5,
     "metadata": {},
     "output_type": "execute_result"
    }
   ],
   "source": [
    "counter_mer(\"GGG\", \"AGGGCGGG\")"
   ]
  },
  {
   "cell_type": "code",
   "execution_count": 6,
   "id": "d021763f-520e-4f9b-943a-f15124f511fc",
   "metadata": {},
   "outputs": [],
   "source": [
    "def kmer_count(k, seq):\n",
    "    rv = {}\n",
    "    for i in range(0, len(seq)-k+1):\n",
    "        subseq = seq[i:i+k]\n",
    "        if subseq in rv:\n",
    "            v = rv[subseq]\n",
    "        else:\n",
    "            v=1\n",
    "        rv[subseq] = v + 1"
   ]
  },
  {
   "cell_type": "code",
   "execution_count": 8,
   "id": "654fda43-066a-4831-9bed-5b093b37b97c",
   "metadata": {},
   "outputs": [],
   "source": [
    "def kmer_count_leet(k, seq):\n",
    "    rv = {}\n",
    "    for i in range(0, len(seq)-k+1):\n",
    "        subseq = seq[i:i+k]\n",
    "        rv[subseq] = 1 + rv.get(subseq,0)\n",
    "    return rv"
   ]
  },
  {
   "cell_type": "code",
   "execution_count": 22,
   "id": "d9b73215-dc10-467c-9e07-6df2057fa162",
   "metadata": {},
   "outputs": [
    {
     "data": {
      "text/plain": [
       "1000"
      ]
     },
     "execution_count": 22,
     "metadata": {},
     "output_type": "execute_result"
    }
   ],
   "source": [
    "import numpy as np\n",
    "nums = list(np.random.randint(0,10,1000))\n",
    "len(nums)"
   ]
  },
  {
   "cell_type": "code",
   "execution_count": 23,
   "id": "8db16d62-87d5-4ff8-aee2-712fc4f2e617",
   "metadata": {},
   "outputs": [],
   "source": [
    "def count_k(k,nums):\n",
    "    hold = {}\n",
    "    for n in nums:\n",
    "        hold[n] = 1 + hold.get(n,0)\n",
    "    return hold"
   ]
  },
  {
   "cell_type": "code",
   "execution_count": 24,
   "id": "35cfb651-5d92-4f1c-aeb3-2ec0b9b4d021",
   "metadata": {},
   "outputs": [],
   "source": [
    "d = count_k(10,nums)"
   ]
  },
  {
   "cell_type": "code",
   "execution_count": 28,
   "id": "bddc023b-0741-4e3e-90d6-9dade1af4870",
   "metadata": {},
   "outputs": [
    {
     "data": {
      "text/plain": [
       "{1: 112, 5: 108, 7: 104, 9: 103, 8: 102}"
      ]
     },
     "execution_count": 28,
     "metadata": {},
     "output_type": "execute_result"
    }
   ],
   "source": [
    "{k:v for k,v in sorted(d.items(), key=lambda item: item[1],reverse=True)[:5]}"
   ]
  },
  {
   "cell_type": "code",
   "execution_count": null,
   "id": "5f35a42b-84e8-4165-9c4c-5c2944a85852",
   "metadata": {},
   "outputs": [],
   "source": []
  }
 ],
 "metadata": {
  "kernelspec": {
   "display_name": "Python 3 (ipykernel)",
   "language": "python",
   "name": "python3"
  },
  "language_info": {
   "codemirror_mode": {
    "name": "ipython",
    "version": 3
   },
   "file_extension": ".py",
   "mimetype": "text/x-python",
   "name": "python",
   "nbconvert_exporter": "python",
   "pygments_lexer": "ipython3",
   "version": "3.9.7"
  }
 },
 "nbformat": 4,
 "nbformat_minor": 5
}
