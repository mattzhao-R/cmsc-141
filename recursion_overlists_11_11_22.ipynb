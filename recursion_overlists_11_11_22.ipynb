{
 "cells": [
  {
   "cell_type": "markdown",
   "id": "3654669a-22bb-4aca-9d93-66ff10e50409",
   "metadata": {},
   "source": [
    "m^n\n",
    "\n",
    "n is 0 -> 1\n",
    "\n",
    "n is k+1 -> m * m^k, k<n, m* m^(n-1)"
   ]
  },
  {
   "cell_type": "code",
   "execution_count": 1,
   "id": "ffeaef8a-e57c-42cb-b386-caad00047046",
   "metadata": {},
   "outputs": [],
   "source": [
    "def power(m,n):\n",
    "    print(f\"called power({m},{n})\")\n",
    "    if n == 0:\n",
    "        print('returning 1')\n",
    "        return 1\n",
    "    else:\n",
    "        rc = power(m,n-1)\n",
    "        print(f\"returning{m*rc}\")\n",
    "        return m*rc"
   ]
  },
  {
   "cell_type": "code",
   "execution_count": 2,
   "id": "f4d47d22-8170-423d-a5ef-839cebe79909",
   "metadata": {},
   "outputs": [
    {
     "name": "stdout",
     "output_type": "stream",
     "text": [
      "called power(4,3)\n",
      "called power(4,2)\n",
      "called power(4,1)\n",
      "called power(4,0)\n",
      "returning 1\n",
      "returning4\n",
      "returning16\n",
      "returning64\n"
     ]
    },
    {
     "data": {
      "text/plain": [
       "64"
      ]
     },
     "execution_count": 2,
     "metadata": {},
     "output_type": "execute_result"
    }
   ],
   "source": [
    "power(4,3)"
   ]
  },
  {
   "cell_type": "markdown",
   "id": "9f8262aa-ef76-414f-87cd-476eb9a65232",
   "metadata": {},
   "source": [
    "recursive definition of a list-\n",
    "\n",
    "[] is a list - base case\n",
    "\n",
    "pair of a value and a list e.g. [1,[2,3]] [1,[2,[3,]]],[1,[2,[3,[]]]]"
   ]
  },
  {
   "cell_type": "markdown",
   "id": "f50d458a-d67c-4107-bf29-79cb2aa2b00e",
   "metadata": {},
   "source": [
    "input type: list of strings\n",
    "\n",
    "output type: integer\n",
    "\n",
    "get len of string recursively"
   ]
  },
  {
   "cell_type": "code",
   "execution_count": 3,
   "id": "b49efbbf-1a69-48e0-b361-0f703deb63d7",
   "metadata": {},
   "outputs": [],
   "source": [
    "def slr(lst):\n",
    "    if len(lst)==0:\n",
    "        return 0\n",
    "    else:\n",
    "        first, *rest = lst\n",
    "        rc = slr(rest)\n",
    "        return len(first)+rc"
   ]
  },
  {
   "cell_type": "code",
   "execution_count": 4,
   "id": "f20a64dc-6f40-4071-bd8d-076bb201df12",
   "metadata": {},
   "outputs": [],
   "source": [
    "lst=[1,4,6]\n",
    "first, *rest = lst"
   ]
  },
  {
   "cell_type": "code",
   "execution_count": 5,
   "id": "baa9dd40-e8ac-475e-a33c-4ef34157204c",
   "metadata": {},
   "outputs": [
    {
     "data": {
      "text/plain": [
       "1"
      ]
     },
     "execution_count": 5,
     "metadata": {},
     "output_type": "execute_result"
    }
   ],
   "source": [
    "first"
   ]
  },
  {
   "cell_type": "code",
   "execution_count": 6,
   "id": "5ffed2b2-cc46-4c90-bfcf-9e13651cdf11",
   "metadata": {},
   "outputs": [
    {
     "data": {
      "text/plain": [
       "[4, 6]"
      ]
     },
     "execution_count": 6,
     "metadata": {},
     "output_type": "execute_result"
    }
   ],
   "source": [
    "rest"
   ]
  },
  {
   "cell_type": "code",
   "execution_count": 7,
   "id": "20555a92-a23f-44a0-8c3f-fcbe82a6106d",
   "metadata": {},
   "outputs": [],
   "source": [
    "a=['abc']\n",
    "f,*d=a"
   ]
  },
  {
   "cell_type": "code",
   "execution_count": 8,
   "id": "22fa74cc-1e1c-442c-ac51-6e000d752056",
   "metadata": {},
   "outputs": [
    {
     "data": {
      "text/plain": [
       "'abc'"
      ]
     },
     "execution_count": 8,
     "metadata": {},
     "output_type": "execute_result"
    }
   ],
   "source": [
    "f"
   ]
  },
  {
   "cell_type": "code",
   "execution_count": 9,
   "id": "53bcce67-6e8f-4ae7-ae91-458f522db390",
   "metadata": {},
   "outputs": [
    {
     "data": {
      "text/plain": [
       "[]"
      ]
     },
     "execution_count": 9,
     "metadata": {},
     "output_type": "execute_result"
    }
   ],
   "source": [
    "d"
   ]
  },
  {
   "cell_type": "code",
   "execution_count": 10,
   "id": "6567bbdd-8650-4005-abed-2f2cdec1089a",
   "metadata": {},
   "outputs": [
    {
     "data": {
      "text/plain": [
       "3"
      ]
     },
     "execution_count": 10,
     "metadata": {},
     "output_type": "execute_result"
    }
   ],
   "source": [
    "slr(['abc'])"
   ]
  },
  {
   "cell_type": "code",
   "execution_count": 11,
   "id": "33e3ef07-5bd6-4190-a0a6-b8c47d014ea9",
   "metadata": {},
   "outputs": [],
   "source": [
    "lst=[1,2,3,6,8]"
   ]
  },
  {
   "cell_type": "code",
   "execution_count": 12,
   "id": "9e5fcf54-90b1-4bea-9e6d-e602a42514c7",
   "metadata": {},
   "outputs": [],
   "source": [
    "n=5\n",
    "added=False\n",
    "for i,val in enumerate(lst):\n",
    "    if val > n:\n",
    "        lst.insert(i,n)\n",
    "        added=True\n",
    "        break\n",
    "if not added:\n",
    "    lst.append(n)"
   ]
  },
  {
   "cell_type": "code",
   "execution_count": 13,
   "id": "5a91da10-b553-4e92-8434-f07854638344",
   "metadata": {},
   "outputs": [
    {
     "data": {
      "text/plain": [
       "[1, 2, 3, 5, 6, 8]"
      ]
     },
     "execution_count": 13,
     "metadata": {},
     "output_type": "execute_result"
    }
   ],
   "source": [
    "lst"
   ]
  },
  {
   "cell_type": "code",
   "execution_count": null,
   "id": "b71a153a-d302-4ce3-9be1-8f112c00ebd2",
   "metadata": {},
   "outputs": [],
   "source": [
    "def insert_r(lst,val):\n",
    "    if lst==[]: # base case 1\n",
    "        return [val]\n",
    "    first, *rest = lst\n",
    "    if val < first: # base case 2\n",
    "        return [val] + lst\n",
    "    else:\n",
    "        rc = insert_r(rest,val)\n",
    "        return [first] + rc"
   ]
  }
 ],
 "metadata": {
  "kernelspec": {
   "display_name": "Python 3 (ipykernel)",
   "language": "python",
   "name": "python3"
  },
  "language_info": {
   "codemirror_mode": {
    "name": "ipython",
    "version": 3
   },
   "file_extension": ".py",
   "mimetype": "text/x-python",
   "name": "python",
   "nbconvert_exporter": "python",
   "pygments_lexer": "ipython3",
   "version": "3.9.13"
  }
 },
 "nbformat": 4,
 "nbformat_minor": 5
}
