{
 "cells": [
  {
   "cell_type": "markdown",
   "id": "a477578c-8b7c-4e46-b3d8-c1e1b951d57b",
   "metadata": {},
   "source": [
    "How function works"
   ]
  },
  {
   "cell_type": "markdown",
   "id": "e4687009-bcc8-4a3b-99f6-2186c83f359b",
   "metadata": {},
   "source": [
    "call function -> initalize parameters within the stack frame of the function -> run function (any variables used within function are also initalized) -> when function is done stack frame and variables inside it go away"
   ]
  },
  {
   "cell_type": "code",
   "execution_count": 4,
   "id": "af391b6b-1160-4926-90f4-f28ca1bcd844",
   "metadata": {},
   "outputs": [],
   "source": [
    "def incr(a):\n",
    "    a = a + 1\n",
    "    return a"
   ]
  },
  {
   "cell_type": "code",
   "execution_count": 3,
   "id": "95a9ba36-3797-4015-bbc2-a3e26d5ae65b",
   "metadata": {},
   "outputs": [],
   "source": [
    "x = 6 # x now points to 6 in memory"
   ]
  },
  {
   "cell_type": "code",
   "execution_count": 5,
   "id": "44f23c8b-15fe-4611-8c2e-cb4f00302b80",
   "metadata": {},
   "outputs": [
    {
     "data": {
      "text/plain": [
       "7"
      ]
     },
     "execution_count": 5,
     "metadata": {},
     "output_type": "execute_result"
    }
   ],
   "source": [
    "incr(x) # function call -> stack frame with a + 1 inside (i.e. 7) -> everything goes away \n",
    "# since we don't reassign the new value to x"
   ]
  },
  {
   "cell_type": "markdown",
   "id": "52847a91-befe-496b-8f1f-30415cd29347",
   "metadata": {},
   "source": [
    "Heap handles space allocation in Python"
   ]
  },
  {
   "cell_type": "markdown",
   "id": "84e6cf5d-4108-4c51-905a-3756cf4ec035",
   "metadata": {},
   "source": [
    "When making a list `l = [10,20,30,40]` using a function called go, in the stack go creates l in the stack frame which points to the list `[10,20,30,40]` in the heap. The function `increment_first_inplace` also makes a variable in its stack frame `lst` that points to the same list in the heap `[10,20,30,40]`. This function then changes the list in memory to `[11,20,30,40]` and then its stack frame goes away (along with the variable `lst` that pointed to this list). "
   ]
  },
  {
   "cell_type": "code",
   "execution_count": 17,
   "id": "6dfc998d-009d-4691-8bd1-134d6b5f7891",
   "metadata": {},
   "outputs": [],
   "source": [
    "def increment_first_inplace(lst):\n",
    "    lst[0] = lst[0] + 1"
   ]
  },
  {
   "cell_type": "code",
   "execution_count": 18,
   "id": "70d00de7-1fb0-41b9-98e9-a6eb124362d9",
   "metadata": {},
   "outputs": [],
   "source": [
    "def go():\n",
    "    l = [10,20,30,40]\n",
    "    print(f\"l before call: {l}\")\n",
    "    increment_first_inplace(l)\n",
    "    print(f\"l after call: {l}\")"
   ]
  },
  {
   "cell_type": "code",
   "execution_count": 19,
   "id": "40df6254-11cd-4574-813f-a84cc68b56b0",
   "metadata": {},
   "outputs": [
    {
     "name": "stdout",
     "output_type": "stream",
     "text": [
      "l before call: [10, 20, 30, 40]\n",
      "l after call: [11, 20, 30, 40]\n"
     ]
    }
   ],
   "source": [
    "go()"
   ]
  },
  {
   "cell_type": "markdown",
   "id": "967d0963-5b04-4956-9b4b-290a1f567a6b",
   "metadata": {},
   "source": [
    "### Scoping"
   ]
  },
  {
   "cell_type": "code",
   "execution_count": 20,
   "id": "35b04b62-f760-4170-bdf8-abc9d7c7f3fb",
   "metadata": {},
   "outputs": [],
   "source": [
    "def f(i):\n",
    "    i = i + 1\n",
    "    return i"
   ]
  },
  {
   "cell_type": "code",
   "execution_count": 21,
   "id": "801d1aca-d386-42f4-84c3-f5bf46f6163f",
   "metadata": {},
   "outputs": [],
   "source": [
    "def g(i):\n",
    "    j = h(i*5)\n",
    "    return j"
   ]
  },
  {
   "cell_type": "code",
   "execution_count": 22,
   "id": "4b8a937a-6ba2-451b-b733-31fc4ff93132",
   "metadata": {},
   "outputs": [],
   "source": [
    "def h(i):\n",
    "    return i+1"
   ]
  },
  {
   "cell_type": "code",
   "execution_count": 23,
   "id": "b46cb1a5-56e9-4aa9-bfdd-439ded03b0d4",
   "metadata": {},
   "outputs": [],
   "source": [
    "def main():\n",
    "    i=7;\n",
    "    j=k=l=0\n",
    "    \n",
    "    j=f(i)\n",
    "    k=f(j*3)\n",
    "    l=g(i)\n",
    "    \n",
    "    return i,j,k,l"
   ]
  },
  {
   "cell_type": "markdown",
   "id": "74ce0640-9a9d-442b-9e14-53965dd22250",
   "metadata": {},
   "source": [
    "Sequence when calling `main`: \n",
    "\n",
    "(1) initalize i to 7, j,k,l to 0.\n",
    "\n",
    "(2) j = f(i) = f(7) = 8\n",
    "\n",
    "(3) k = f(j\\*3) = f(24) = 25\n",
    "\n",
    "(4) l = g(i) = h(i\\*5) = h(35) = 36"
   ]
  },
  {
   "cell_type": "markdown",
   "id": "06a2e25f-9918-42e0-8aa4-8cebe3149481",
   "metadata": {},
   "source": [
    "With nested calls, the stack frames 'stack' up, where local variables are stored within each function's respective stack frame.\n",
    "\n",
    "An example here would be initally, the variables are initalized in the stack frame of `main` where i=7 and j=k=l=0. When we make the function call to `f`, its stack frame creates variable i and sets it to 8 and returns, making j in `main` stack frame 8.\n",
    "\n",
    "A further example would be when setting l, we call `g`. Since `g` then immediately calls `h`, the stack frame of `g` only contains its parameter i which is 7. When `g` calls `h`, the stack frame of `h` now has its own parameter which is i\\*5 = 7\\*5 = 35. The function then adds 1 to this value and returns it, so now the variable j is created in the stack frame of `g` which is set to this value (36). `g` then returns this variable j so now the variable l in the stack frame of `main` is updated to be 36."
   ]
  }
 ],
 "metadata": {
  "kernelspec": {
   "display_name": "Python 3 (ipykernel)",
   "language": "python",
   "name": "python3"
  },
  "language_info": {
   "codemirror_mode": {
    "name": "ipython",
    "version": 3
   },
   "file_extension": ".py",
   "mimetype": "text/x-python",
   "name": "python",
   "nbconvert_exporter": "python",
   "pygments_lexer": "ipython3",
   "version": "3.9.7"
  }
 },
 "nbformat": 4,
 "nbformat_minor": 5
}
