{
 "cells": [
  {
   "cell_type": "code",
   "execution_count": 4,
   "id": "761d2a4e-6c5b-4355-b540-bdae516c4e0d",
   "metadata": {},
   "outputs": [],
   "source": [
    "class Stack:\n",
    "    def __init__(self):\n",
    "        self.__lst=[]\n",
    "        \n",
    "    def push(self, value):\n",
    "        self.__lst.append(value)\n",
    "    \n",
    "    def pop(self):\n",
    "        value = self.__lst.pop()\n",
    "        return value\n",
    "    \n",
    "    def peek(self):\n",
    "        return self.__lst[-1]\n",
    "    \n",
    "    def is_empty(self):\n",
    "        return len(self.__lst) == 0"
   ]
  },
  {
   "cell_type": "markdown",
   "id": "863bd87b-7974-4360-bb20-13706fdb8e17",
   "metadata": {},
   "source": [
    "two underscores means private class"
   ]
  },
  {
   "cell_type": "code",
   "execution_count": 5,
   "id": "282d3c4d-12c2-41fd-8553-a7dfe170d503",
   "metadata": {},
   "outputs": [],
   "source": [
    "s = Stack()"
   ]
  },
  {
   "cell_type": "code",
   "execution_count": 6,
   "id": "2542a5d7-57e2-4b13-b70f-d7dcfe4abec4",
   "metadata": {},
   "outputs": [
    {
     "ename": "AttributeError",
     "evalue": "'Stack' object has no attribute '__lst'",
     "output_type": "error",
     "traceback": [
      "\u001b[0;31m---------------------------------------------------------------------------\u001b[0m",
      "\u001b[0;31mAttributeError\u001b[0m                            Traceback (most recent call last)",
      "\u001b[0;32m/var/folders/fp/_7x5x4s175369fk6b5b5xhy40000gn/T/ipykernel_10169/2994581179.py\u001b[0m in \u001b[0;36m<module>\u001b[0;34m\u001b[0m\n\u001b[0;32m----> 1\u001b[0;31m \u001b[0ms\u001b[0m\u001b[0;34m.\u001b[0m\u001b[0m__lst\u001b[0m \u001b[0;31m# private so we can't look into it\u001b[0m\u001b[0;34m\u001b[0m\u001b[0;34m\u001b[0m\u001b[0m\n\u001b[0m",
      "\u001b[0;31mAttributeError\u001b[0m: 'Stack' object has no attribute '__lst'"
     ]
    }
   ],
   "source": [
    "s.__lst # private so we can't look into it"
   ]
  },
  {
   "cell_type": "code",
   "execution_count": 7,
   "id": "5518e425-e62a-49f9-8d55-aea4dfde556f",
   "metadata": {},
   "outputs": [],
   "source": [
    "class pub_Stack:\n",
    "    def __init__(self):\n",
    "        self.lst=[]\n",
    "        \n",
    "    def push(self, value):\n",
    "        self.lst.append(value)\n",
    "    \n",
    "    def pop(self):\n",
    "        value = self.lst.pop()\n",
    "        return value\n",
    "    \n",
    "    def peek(self):\n",
    "        return self.lst[-1]\n",
    "    \n",
    "    def is_empty(self):\n",
    "        return len(self.lst) == 0"
   ]
  },
  {
   "cell_type": "code",
   "execution_count": 8,
   "id": "e7d6c220-e371-4f15-a1e6-4f297910b72c",
   "metadata": {},
   "outputs": [],
   "source": [
    "t = pub_Stack()"
   ]
  },
  {
   "cell_type": "code",
   "execution_count": 9,
   "id": "586bbc43-a180-4c3a-a210-2ea4ef7286ca",
   "metadata": {},
   "outputs": [
    {
     "data": {
      "text/plain": [
       "[]"
      ]
     },
     "execution_count": 9,
     "metadata": {},
     "output_type": "execute_result"
    }
   ],
   "source": [
    "t.lst"
   ]
  },
  {
   "cell_type": "code",
   "execution_count": 10,
   "id": "1f09104b-e057-47e8-a5fb-dc93cfc33752",
   "metadata": {},
   "outputs": [
    {
     "data": {
      "text/plain": [
       "<__main__.Stack at 0x7f85d87355e0>"
      ]
     },
     "execution_count": 10,
     "metadata": {},
     "output_type": "execute_result"
    }
   ],
   "source": [
    "s"
   ]
  },
  {
   "cell_type": "code",
   "execution_count": 11,
   "id": "ee52d4d3-9d30-439e-9854-ac3e379d1b8f",
   "metadata": {},
   "outputs": [
    {
     "name": "stdout",
     "output_type": "stream",
     "text": [
      "<__main__.Stack object at 0x7f85d87355e0>\n"
     ]
    }
   ],
   "source": [
    "print(s)"
   ]
  },
  {
   "cell_type": "markdown",
   "id": "b9e6fb68-ab61-4119-aee6-83260ab84d61",
   "metadata": {},
   "source": [
    "define print for a class with __repr__ (can also __str__ but repr should always be in class)\n",
    "\n",
    "called a dunder method (double underscore)"
   ]
  },
  {
   "cell_type": "code",
   "execution_count": 12,
   "id": "490d70f2-c5b5-46cb-962d-ec624ed0192d",
   "metadata": {},
   "outputs": [],
   "source": [
    "class Stack:\n",
    "    def __init__(self):\n",
    "        self.__lst=[]\n",
    "        \n",
    "    def push(self, value):\n",
    "        self.__lst.append(value)\n",
    "    \n",
    "    def pop(self):\n",
    "        value = self.__lst.pop()\n",
    "        return value\n",
    "    \n",
    "    def peek(self):\n",
    "        return self.__lst[-1]\n",
    "    \n",
    "    def is_empty(self):\n",
    "        return len(self.__lst) == 0\n",
    "    \n",
    "    def __repr__(self):\n",
    "        return \"MY STACK\""
   ]
  },
  {
   "cell_type": "code",
   "execution_count": 13,
   "id": "015ef265-cd00-43c6-8179-26e8ce88bfbf",
   "metadata": {},
   "outputs": [],
   "source": [
    "s = Stack()"
   ]
  },
  {
   "cell_type": "code",
   "execution_count": 14,
   "id": "f27959ff-dd17-448b-baa2-91f9913890e9",
   "metadata": {},
   "outputs": [
    {
     "name": "stdout",
     "output_type": "stream",
     "text": [
      "MY STACK\n"
     ]
    }
   ],
   "source": [
    "print(s)"
   ]
  },
  {
   "cell_type": "code",
   "execution_count": 15,
   "id": "608e3087-3bba-4d84-adbb-53ed1bed7bcb",
   "metadata": {},
   "outputs": [],
   "source": [
    "class Stack:\n",
    "    def __init__(self):\n",
    "        self.__lst=[]\n",
    "        \n",
    "    def push(self, value):\n",
    "        self.__lst.append(value)\n",
    "    \n",
    "    def pop(self):\n",
    "        value = self.__lst.pop()\n",
    "        return value\n",
    "    \n",
    "    def peek(self):\n",
    "        return self.__lst[-1]\n",
    "    \n",
    "    def is_empty(self):\n",
    "        return len(self.__lst) == 0\n",
    "    \n",
    "    def __repr__(self):\n",
    "        return \"STACK: \" + \", \".join(str(v) for v in self.__lst) + \" (top)\""
   ]
  },
  {
   "cell_type": "code",
   "execution_count": 16,
   "id": "0afa0a65-fa70-4545-9e8f-2f515ae78982",
   "metadata": {},
   "outputs": [],
   "source": [
    "s = Stack()"
   ]
  },
  {
   "cell_type": "code",
   "execution_count": 17,
   "id": "df31a862-35fa-4631-88c6-c612aeb87b54",
   "metadata": {},
   "outputs": [],
   "source": [
    "s.push(10)\n",
    "s.push(5)\n",
    "s.push(7)"
   ]
  },
  {
   "cell_type": "code",
   "execution_count": 18,
   "id": "02d776c4-57e7-4be1-9bf4-bd74092701ec",
   "metadata": {},
   "outputs": [
    {
     "name": "stdout",
     "output_type": "stream",
     "text": [
      "STACK: 10, 5, 7 (top)\n"
     ]
    }
   ],
   "source": [
    "print(s)"
   ]
  },
  {
   "cell_type": "code",
   "execution_count": 19,
   "id": "34f7e3c3-d050-4e35-af97-d6f2c4431bcf",
   "metadata": {},
   "outputs": [],
   "source": [
    "s1 = Stack()\n",
    "s1.push(10)\n",
    "s1.push(5)\n",
    "s1.push(7)"
   ]
  },
  {
   "cell_type": "code",
   "execution_count": 20,
   "id": "78dfc4eb-b0df-4549-af19-9f4fa17decf9",
   "metadata": {},
   "outputs": [
    {
     "data": {
      "text/plain": [
       "False"
      ]
     },
     "execution_count": 20,
     "metadata": {},
     "output_type": "execute_result"
    }
   ],
   "source": [
    "s == s1"
   ]
  },
  {
   "cell_type": "code",
   "execution_count": 21,
   "id": "d0d73e4e-0b30-40ec-ab70-0104cb24a80b",
   "metadata": {},
   "outputs": [],
   "source": [
    "class Stack:\n",
    "    def __init__(self):\n",
    "        self.__lst=[]\n",
    "        \n",
    "    def push(self, value):\n",
    "        self.__lst.append(value)\n",
    "    \n",
    "    def pop(self):\n",
    "        value = self.__lst.pop()\n",
    "        return value\n",
    "    \n",
    "    def peek(self):\n",
    "        return self.__lst[-1]\n",
    "    \n",
    "    def is_empty(self):\n",
    "        return len(self.__lst) == 0\n",
    "    \n",
    "    def __repr__(self):\n",
    "        return \"STACK: \" + \", \".join(str(v) for v in self.__lst) + \" (top)\"\n",
    "    \n",
    "    def __eq__(self, other):\n",
    "        return self.__lst == other.__lst"
   ]
  },
  {
   "cell_type": "code",
   "execution_count": 23,
   "id": "2db18025-10ef-4f8d-9a6a-a9b5ac5ddb92",
   "metadata": {},
   "outputs": [],
   "source": [
    "s1 = Stack()\n",
    "s1.push(10)\n",
    "s1.push(5)\n",
    "s1.push(7)\n",
    "\n",
    "s2 = Stack()\n",
    "s2.push(10)\n",
    "s2.push(5)\n",
    "s2.push(7)"
   ]
  },
  {
   "cell_type": "code",
   "execution_count": 24,
   "id": "a49ebe81-878a-467a-8604-4d26c9d50de9",
   "metadata": {},
   "outputs": [
    {
     "data": {
      "text/plain": [
       "True"
      ]
     },
     "execution_count": 24,
     "metadata": {},
     "output_type": "execute_result"
    }
   ],
   "source": [
    "s1 == s2"
   ]
  },
  {
   "cell_type": "markdown",
   "id": "c0b22c73-fba6-4725-b900-e7b6071118ae",
   "metadata": {},
   "source": [
    "Overloading: things mean different things in different contexts e.g. > for integer vs string"
   ]
  },
  {
   "cell_type": "code",
   "execution_count": 25,
   "id": "1fe34a56-deae-45ba-9e0e-1aee58dd3d61",
   "metadata": {},
   "outputs": [],
   "source": [
    "class Student:\n",
    "    assert isinstance(name, str), \"Name must be a string\"\n",
    "    assert isinstance(majors, list)\n",
    "    \n",
    "    def __init__(self, name, majors, year):\n",
    "        self.name = name\n",
    "        self.majors = majors[:]\n",
    "        self.year = year\n",
    "        \n",
    "    def num_majors(self):\n",
    "        return len(self.majors)\n",
    "    \n",
    "    def __repr__(self):\n",
    "        return \"Student: {}\".format(self.name)\n"
   ]
  },
  {
   "cell_type": "code",
   "execution_count": null,
   "id": "fefb6414-8717-4d7a-a249-a1bd71df065f",
   "metadata": {},
   "outputs": [],
   "source": []
  }
 ],
 "metadata": {
  "kernelspec": {
   "display_name": "Python 3 (ipykernel)",
   "language": "python",
   "name": "python3"
  },
  "language_info": {
   "codemirror_mode": {
    "name": "ipython",
    "version": 3
   },
   "file_extension": ".py",
   "mimetype": "text/x-python",
   "name": "python",
   "nbconvert_exporter": "python",
   "pygments_lexer": "ipython3",
   "version": "3.9.7"
  }
 },
 "nbformat": 4,
 "nbformat_minor": 5
}
