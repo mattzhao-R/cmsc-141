{
 "cells": [
  {
   "cell_type": "markdown",
   "id": "0a1bb8cc-c5a8-4fdd-a982-aa0c6b72b93d",
   "metadata": {},
   "source": [
    "Functions:"
   ]
  },
  {
   "cell_type": "code",
   "execution_count": 1,
   "id": "1ef44686-b1ef-4ba7-b122-43c1da7a2f47",
   "metadata": {},
   "outputs": [],
   "source": [
    "def mult(a,b):\n",
    "    return a*b"
   ]
  },
  {
   "cell_type": "markdown",
   "id": "3519ac5d-7c2c-4d03-9e21-e40d1c42df5e",
   "metadata": {},
   "source": [
    "`mult` is the name of the function while `a` and `b` are its parameters"
   ]
  },
  {
   "cell_type": "markdown",
   "id": "eff94fae-652f-4bc8-bb41-3dbca891ab38",
   "metadata": {},
   "source": [
    "functions should always have a docstring to descrive what it does, its inputs, and outputs"
   ]
  },
  {
   "cell_type": "code",
   "execution_count": 3,
   "id": "c995c4bd-13ce-40d4-b253-b4dfe7ad7c3b",
   "metadata": {},
   "outputs": [],
   "source": [
    "def mult(a,b):\n",
    "    \"\"\"\n",
    "    Multiplies two values\n",
    "    \n",
    "    Inputs:\n",
    "        a (int, float): one value\n",
    "        b (int, float): another value\n",
    "        \n",
    "    Output:\n",
    "        returns a multiplied by b (int, float)\n",
    "    \"\"\"\n",
    "    \n",
    "    n = a * b\n",
    "    return n"
   ]
  },
  {
   "cell_type": "code",
   "execution_count": 9,
   "id": "304c516e-b5a5-47a9-8fc4-384568036b18",
   "metadata": {},
   "outputs": [],
   "source": [
    "def is_prime(n):\n",
    "    \"\"\"\n",
    "    Checks if a number is prime.\n",
    "    \n",
    "    Input:\n",
    "        n (int): a positive integer\n",
    "        \n",
    "    Output:\n",
    "        True if it is prime, False if the number is not.\n",
    "    \"\"\"\n",
    "    \n",
    "    assert n > 0\n",
    "    if n == 1:\n",
    "        rv = False\n",
    "    else:\n",
    "        rv = True\n",
    "        for i in range(2,n):\n",
    "            if n % i == 0:\n",
    "                rv = False\n",
    "                break\n",
    "    return rv"
   ]
  },
  {
   "cell_type": "code",
   "execution_count": 10,
   "id": "3e755b7b-67f6-40d0-bd34-ae5b4df11f68",
   "metadata": {},
   "outputs": [
    {
     "data": {
      "text/plain": [
       "True"
      ]
     },
     "execution_count": 10,
     "metadata": {},
     "output_type": "execute_result"
    }
   ],
   "source": [
    "is_prime(2)"
   ]
  },
  {
   "cell_type": "code",
   "execution_count": null,
   "id": "bc821205-7d6a-49b0-b0b1-505cd995bbab",
   "metadata": {},
   "outputs": [],
   "source": []
  }
 ],
 "metadata": {
  "kernelspec": {
   "display_name": "Python 3 (ipykernel)",
   "language": "python",
   "name": "python3"
  },
  "language_info": {
   "codemirror_mode": {
    "name": "ipython",
    "version": 3
   },
   "file_extension": ".py",
   "mimetype": "text/x-python",
   "name": "python",
   "nbconvert_exporter": "python",
   "pygments_lexer": "ipython3",
   "version": "3.9.7"
  }
 },
 "nbformat": 4,
 "nbformat_minor": 5
}
