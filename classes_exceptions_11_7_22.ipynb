{
 "cells": [
  {
   "cell_type": "markdown",
   "id": "a3f86fd4-8540-4df2-81fd-f486d78c99bd",
   "metadata": {},
   "source": [
    "__repr__ should be a unique representation of the object while __str__ should be more human readable"
   ]
  },
  {
   "cell_type": "markdown",
   "id": "a69cc78c-46a6-4db1-869d-5716be54c8d3",
   "metadata": {},
   "source": [
    "dispatch -> check if object/type has function -> execute function"
   ]
  },
  {
   "cell_type": "markdown",
   "id": "94587f16-2506-4a16-9bcc-6598d766d397",
   "metadata": {},
   "source": [
    "str(object) and print(object) will use __str__ while repr(object) will use __repr__, command line evaluate also uses __repr__"
   ]
  },
  {
   "cell_type": "markdown",
   "id": "cdd4a891-ab34-4c5a-89e4-2e5fd32727a5",
   "metadata": {},
   "source": [
    "class can take instance of another class in constructor"
   ]
  },
  {
   "cell_type": "markdown",
   "id": "d11baa4c-040f-495b-a629-9d4433e32017",
   "metadata": {},
   "source": [
    "### Exceptions"
   ]
  },
  {
   "cell_type": "markdown",
   "id": "ac7ed881-a0e9-4954-b7f0-0cb2ecfbd58c",
   "metadata": {},
   "source": [
    "```{python}\n",
    "try:\n",
    "    pass\n",
    "except (exception name) as name:\n",
    "    pass\n",
    "```"
   ]
  },
  {
   "cell_type": "code",
   "execution_count": 1,
   "id": "9dd1aad9-c106-44a0-965b-b90355d61d67",
   "metadata": {},
   "outputs": [
    {
     "name": "stdout",
     "output_type": "stream",
     "text": [
      "no key\n",
      "pog\n"
     ]
    }
   ],
   "source": [
    "d={}\n",
    "try:\n",
    "    print(d['nokey'])\n",
    "except KeyError:\n",
    "    print('no key')\n",
    "print('pog')"
   ]
  },
  {
   "cell_type": "code",
   "execution_count": 4,
   "id": "03570871-76a4-4fd0-9b8c-b6e07f737157",
   "metadata": {},
   "outputs": [
    {
     "name": "stdout",
     "output_type": "stream",
     "text": [
      "your error err=NameError(\"name 'xyq' is not defined\"),type(err)=<class 'NameError'>\n",
      "err=NameError(\"name 'xyq' is not defined\"),type(err)=<class 'NameError'>\n"
     ]
    }
   ],
   "source": [
    "try:\n",
    "    print(xyq)\n",
    "except Exception as err: #catches all errors\n",
    "    print(f'your error {err=},{type(err)=}')\n",
    "    print(f'{err=},{type(err)=}')"
   ]
  },
  {
   "cell_type": "code",
   "execution_count": null,
   "id": "0367d1fc-4b06-49da-a647-08bd18434380",
   "metadata": {},
   "outputs": [],
   "source": []
  }
 ],
 "metadata": {
  "kernelspec": {
   "display_name": "Python 3 (ipykernel)",
   "language": "python",
   "name": "python3"
  },
  "language_info": {
   "codemirror_mode": {
    "name": "ipython",
    "version": 3
   },
   "file_extension": ".py",
   "mimetype": "text/x-python",
   "name": "python",
   "nbconvert_exporter": "python",
   "pygments_lexer": "ipython3",
   "version": "3.9.13"
  }
 },
 "nbformat": 4,
 "nbformat_minor": 5
}
