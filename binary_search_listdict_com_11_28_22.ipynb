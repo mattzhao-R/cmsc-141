{
 "cells": [
  {
   "cell_type": "code",
   "execution_count": 1,
   "id": "a0ac2540-9fb7-46ca-8f20-20a878bd4ea4",
   "metadata": {},
   "outputs": [],
   "source": [
    "l = [1,3,4,9,12,13,20,25,27,31,42,43,50,51]"
   ]
  },
  {
   "cell_type": "markdown",
   "id": "3cabc49c-9a37-4b63-80f9-9110a8ad3aae",
   "metadata": {},
   "source": [
    "binary search:\n",
    "\n",
    "split list, see if value is midpoint, if not then see if less or greater than midpoint\n",
    "\n",
    "repeat until find value or nothing\n",
    "\n",
    "time complexity: O($log_2 n$)"
   ]
  },
  {
   "cell_type": "code",
   "execution_count": 2,
   "id": "10a3a97d-b1c5-47ff-a13c-63bf2c83e916",
   "metadata": {},
   "outputs": [],
   "source": [
    "def binary_search(lst,x):\n",
    "    \"\"\"\n",
    "    Performs binary search.\n",
    "    \n",
    "    Inputs:\n",
    "        lst (list of something): list to search through\n",
    "        x (something): value to search for\n",
    "    Output:\n",
    "        boolean (bool) whether the value appears or not\n",
    "    \"\"\"\n",
    "    if lst == []:\n",
    "        return False\n",
    "    else:\n",
    "        mid = len(lst) // 2\n",
    "        if x == lst[mid]:\n",
    "            return True\n",
    "        elif x < lst[mid]:\n",
    "            return binary_search(lst[0:mid], x)\n",
    "        else:\n",
    "            return binary_search(lst[mid+1:], x)"
   ]
  },
  {
   "cell_type": "code",
   "execution_count": 3,
   "id": "def2f6d7-611f-4ec6-930e-0945dab9aad8",
   "metadata": {},
   "outputs": [
    {
     "data": {
      "text/plain": [
       "7"
      ]
     },
     "execution_count": 3,
     "metadata": {},
     "output_type": "execute_result"
    }
   ],
   "source": [
    "mid = len(l) // 2\n",
    "mid"
   ]
  },
  {
   "cell_type": "code",
   "execution_count": 4,
   "id": "8396ce89-4aaf-450d-adb6-4f07d97c4dca",
   "metadata": {},
   "outputs": [
    {
     "data": {
      "text/plain": [
       "[1, 3, 4, 9, 12, 13, 20]"
      ]
     },
     "execution_count": 4,
     "metadata": {},
     "output_type": "execute_result"
    }
   ],
   "source": [
    "l[0:mid]"
   ]
  },
  {
   "cell_type": "code",
   "execution_count": 5,
   "id": "f474451a-7c43-400f-8de1-674e7270ea3a",
   "metadata": {},
   "outputs": [
    {
     "data": {
      "text/plain": [
       "[25, 27, 31, 42, 43, 50, 51]"
      ]
     },
     "execution_count": 5,
     "metadata": {},
     "output_type": "execute_result"
    }
   ],
   "source": [
    "l[mid:]"
   ]
  },
  {
   "cell_type": "code",
   "execution_count": 6,
   "id": "abc82b3d-4978-4a2d-b351-488ed7f5a292",
   "metadata": {},
   "outputs": [
    {
     "data": {
      "text/plain": [
       "True"
      ]
     },
     "execution_count": 6,
     "metadata": {},
     "output_type": "execute_result"
    }
   ],
   "source": [
    "binary_search(l,42)"
   ]
  },
  {
   "cell_type": "code",
   "execution_count": 7,
   "id": "be84b8c1-0163-4e95-972c-d617ccc8efb0",
   "metadata": {},
   "outputs": [
    {
     "data": {
      "text/plain": [
       "False"
      ]
     },
     "execution_count": 7,
     "metadata": {},
     "output_type": "execute_result"
    }
   ],
   "source": [
    "binary_search(l,44)"
   ]
  },
  {
   "cell_type": "code",
   "execution_count": 8,
   "id": "b63cc2d5-2496-46ac-83ed-a9e0326ee053",
   "metadata": {},
   "outputs": [],
   "source": [
    "large_list = list(range(1000000))"
   ]
  },
  {
   "cell_type": "code",
   "execution_count": 12,
   "id": "8f78c477-f8ec-4de5-a210-18b850e9a6c1",
   "metadata": {},
   "outputs": [
    {
     "name": "stdout",
     "output_type": "stream",
     "text": [
      "7.92 ms ± 286 µs per loop (mean ± std. dev. of 7 runs, 100 loops each)\n"
     ]
    }
   ],
   "source": [
    "import random\n",
    "%timeit large_list.index(random.randint(0,1000000-1))"
   ]
  },
  {
   "cell_type": "code",
   "execution_count": 11,
   "id": "4d12431d-2e0b-4165-ae71-e7cd32cfcbac",
   "metadata": {},
   "outputs": [
    {
     "name": "stdout",
     "output_type": "stream",
     "text": [
      "7.2 ms ± 160 µs per loop (mean ± std. dev. of 7 runs, 100 loops each)\n"
     ]
    }
   ],
   "source": [
    "%timeit binary_search(large_list,random.randint(0,len(large_list)-1))"
   ]
  },
  {
   "cell_type": "markdown",
   "id": "d9285b8f-d64b-44f2-ad65-d8654275e45e",
   "metadata": {},
   "source": [
    "Binary search doesn't appear to be performing that much better than iterating through the whole list, why?\n",
    "\n",
    "*Answer*: Since we're slicing the list, each time we perform a recursive call we make copies of the list, effectively doing something similar to full iteration. As a result, we're not making many gains."
   ]
  },
  {
   "cell_type": "code",
   "execution_count": 19,
   "id": "8d2638db-e718-49f9-b586-5e702419f515",
   "metadata": {},
   "outputs": [],
   "source": [
    "def binary_search_2(lst,x, low, high, verbose=False):\n",
    "    \"\"\"\n",
    "    Performs binary search.\n",
    "    \n",
    "    Inputs:\n",
    "        lst (list of something): list to search through\n",
    "        x (something): value to search for\n",
    "    Output:\n",
    "        boolean (bool) whether the value appears or not\n",
    "    \"\"\"\n",
    "    if (low >= high):\n",
    "        return False\n",
    "    else:\n",
    "        mid = (low + high) // 2\n",
    "        if x == lst[mid]:\n",
    "            return True\n",
    "        elif x < lst[mid]:\n",
    "            return binary_search_2(lst, x, low, mid)\n",
    "        else:\n",
    "            return binary_search_2(lst, x, mid+1, high)"
   ]
  },
  {
   "cell_type": "code",
   "execution_count": 20,
   "id": "f151e979-5f1a-4097-969d-7f5c4ae88b0b",
   "metadata": {},
   "outputs": [
    {
     "name": "stdout",
     "output_type": "stream",
     "text": [
      "9.94 µs ± 140 ns per loop (mean ± std. dev. of 7 runs, 100000 loops each)\n"
     ]
    }
   ],
   "source": [
    "%timeit binary_search_2(large_list,random.randint(0,len(large_list)-1),0,len(large_list))"
   ]
  },
  {
   "cell_type": "markdown",
   "id": "16b71b9f-014e-477c-b67b-50c3c48640e7",
   "metadata": {},
   "source": [
    "# Comprehensions"
   ]
  },
  {
   "cell_type": "code",
   "execution_count": 21,
   "id": "2c9cd5aa-c3fd-4d76-9998-b8488d033766",
   "metadata": {},
   "outputs": [
    {
     "data": {
      "text/plain": [
       "[90.0, 53.991, 6.3, 13.5]"
      ]
     },
     "execution_count": 21,
     "metadata": {},
     "output_type": "execute_result"
    }
   ],
   "source": [
    "prices = [100.0,59.99,7.00,15.00]\n",
    "discounted_prices = []\n",
    "for price in prices:\n",
    "    new_price = price * 0.9\n",
    "    discounted_prices.append(new_price)\n",
    "discounted_prices"
   ]
  },
  {
   "cell_type": "code",
   "execution_count": 22,
   "id": "7e9ea508-de85-4404-b2d6-228b611cb311",
   "metadata": {},
   "outputs": [
    {
     "data": {
      "text/plain": [
       "[90.0, 53.991, 6.3, 13.5]"
      ]
     },
     "execution_count": 22,
     "metadata": {},
     "output_type": "execute_result"
    }
   ],
   "source": [
    "[p * 0.9 for p in prices]"
   ]
  },
  {
   "cell_type": "code",
   "execution_count": 26,
   "id": "0a52baef-b860-4c5d-a5e5-3b0be3e08641",
   "metadata": {},
   "outputs": [
    {
     "data": {
      "text/plain": [
       "[90.0, 53.991, 13.5]"
      ]
     },
     "execution_count": 26,
     "metadata": {},
     "output_type": "execute_result"
    }
   ],
   "source": [
    "[p * 0.9 for p in prices if p > 10]"
   ]
  },
  {
   "cell_type": "code",
   "execution_count": 27,
   "id": "79572c32-a210-4579-90f1-50dfc12f4fed",
   "metadata": {},
   "outputs": [
    {
     "data": {
      "text/plain": [
       "[90.0, 53.991, 7.0, 13.5]"
      ]
     },
     "execution_count": 27,
     "metadata": {},
     "output_type": "execute_result"
    }
   ],
   "source": [
    "[p * 0.9 if p > 10 else p for p in prices]"
   ]
  },
  {
   "cell_type": "code",
   "execution_count": null,
   "id": "a81f2d3b-fad0-4670-a915-1868841954a2",
   "metadata": {},
   "outputs": [],
   "source": []
  }
 ],
 "metadata": {
  "kernelspec": {
   "display_name": "Python 3 (ipykernel)",
   "language": "python",
   "name": "python3"
  },
  "language_info": {
   "codemirror_mode": {
    "name": "ipython",
    "version": 3
   },
   "file_extension": ".py",
   "mimetype": "text/x-python",
   "name": "python",
   "nbconvert_exporter": "python",
   "pygments_lexer": "ipython3",
   "version": "3.9.13"
  }
 },
 "nbformat": 4,
 "nbformat_minor": 5
}
